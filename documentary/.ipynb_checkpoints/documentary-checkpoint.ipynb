{
 "cells": [
  {
   "cell_type": "markdown",
   "metadata": {},
   "source": [
    "## Creating Documentary & Special Effects"
   ]
  },
  {
   "cell_type": "code",
   "execution_count": 1,
   "metadata": {},
   "outputs": [],
   "source": [
    "import numpy as np\n",
    "import cv2\n",
    "import pafy\n",
    "from pytube import YouTube"
   ]
  },
  {
   "cell_type": "markdown",
   "metadata": {},
   "source": [
    "### Downloading Youtube video"
   ]
  },
  {
   "cell_type": "code",
   "execution_count": 2,
   "metadata": {
    "scrolled": false
   },
   "outputs": [],
   "source": [
    "def downloadVideo(url):\n",
    "    video=YouTube(url)\n",
    "#     video.streams\n",
    "#     print(video.streams.filter(file_extension = \"mp4\"))\n",
    "    video.streams.get_by_itag(18).download('./../')"
   ]
  },
  {
   "cell_type": "code",
   "execution_count": 3,
   "metadata": {},
   "outputs": [],
   "source": [
    "url1 = 'https://www.youtube.com/watch?v=tXha7F48HyU'\n",
    "url2 = 'https://www.youtube.com/watch?v=ndMKTnSRsKM'\n",
    "url3 = 'https://www.youtube.com/watch?v=MfstYSUscBc'\n",
    "url4 = 'https://www.youtube.com/watch?v=B-NEPHPyr_Y'"
   ]
  },
  {
   "cell_type": "code",
   "execution_count": 4,
   "metadata": {
    "scrolled": true
   },
   "outputs": [],
   "source": [
    "# downloadVideo(url3)"
   ]
  },
  {
   "cell_type": "markdown",
   "metadata": {},
   "source": [
    "### Running video"
   ]
  },
  {
   "cell_type": "code",
   "execution_count": 5,
   "metadata": {},
   "outputs": [],
   "source": [
    "file1 = './IIIT-HYDERABAD - AN OVERVIEW.mp4'\n",
    "file2 = './Attenborough Saying Boo to a Sloth!  BBC Earth.mp4'\n",
    "file3 = './Emperor penguins  The Greatest Wildlife Show on Earth  BBC Earth.mp4'"
   ]
  },
  {
   "cell_type": "code",
   "execution_count": 6,
   "metadata": {},
   "outputs": [],
   "source": [
    "# import vlc\n",
    "\n",
    "# player = vlc.MediaPlayer(file3)\n",
    "\n",
    "# player.play()\n",
    "\n",
    "# player.pause()\n",
    "# player.stop()"
   ]
  },
  {
   "cell_type": "code",
   "execution_count": 7,
   "metadata": {},
   "outputs": [],
   "source": [
    "def getURL(url):\n",
    "    vPafy = pafy.new(url)\n",
    "    play = vPafy.getbest(preftype='mp4')\n",
    "    return play.url\n",
    "\n",
    "def save(url, filename='output'):\n",
    "    cap = cv2.VideoCapture(url)\n",
    "    \n",
    "    fourcc = cv2.VideoWriter_fourcc(*'MP4V')\n",
    "    out = cv2.VideoWriter(filename+'.mp4', fourcc, cap.get(5), (int(cap.get(3)),int(cap.get(4))))\n",
    "\n",
    "    while(cap.isOpened()):\n",
    "        ret, frame = cap.read()\n",
    "        if ret==True:\n",
    "            out.write(frame)\n",
    "\n",
    "            cv2.imshow('frame',frame)\n",
    "            if cv2.waitKey(1) & 0xFF == ord('q'):\n",
    "                break\n",
    "        else:\n",
    "            break\n",
    "    cap.release()\n",
    "    out.release()\n",
    "    cv2.destroyAllWindows()    \n",
    "\n",
    "def run(file=file3):\n",
    "    cap = cv2.VideoCapture(file) \n",
    "    print(cap.get(5))  # fps\n",
    "\n",
    "    # Check if camera opened successfully \n",
    "    if (cap.isOpened()== False):  \n",
    "        print(\"Error opening video  file\") \n",
    "\n",
    "    # Read until video is completed \n",
    "    while(cap.isOpened()): \n",
    "\n",
    "        pos_frame = cap.get(cv2.CAP_PROP_POS_FRAMES)\n",
    "\n",
    "        # Capture frame-by-frame \n",
    "        ret, frame = cap.read() \n",
    "        if ret == True: \n",
    "\n",
    "            # Display the resulting frame \n",
    "            cv2.imshow('Frame', frame) \n",
    "\n",
    "            # Press Q on keyboard to  exit \n",
    "            if cv2.waitKey(25) & 0xFF == ord('q'):\n",
    "                break\n",
    "\n",
    "            # Break the loop \n",
    "        else:  \n",
    "            break\n",
    "\n",
    "    # # When everything done, release  \n",
    "    # # the video capture object \n",
    "    cap.release() \n",
    "\n",
    "    # # Closes all the frames \n",
    "    cv2.destroyAllWindows() "
   ]
  },
  {
   "cell_type": "markdown",
   "metadata": {},
   "source": [
    "### Clip Video"
   ]
  },
  {
   "cell_type": "code",
   "execution_count": 7,
   "metadata": {},
   "outputs": [],
   "source": [
    "from moviepy.video.io.ffmpeg_tools import ffmpeg_extract_subclip\n",
    "\n",
    "# ffmpeg_extract_subclip(file3, 4, 14, targetname=\"clip1.mp4\")"
   ]
  },
  {
   "cell_type": "code",
   "execution_count": 8,
   "metadata": {},
   "outputs": [],
   "source": [
    "from moviepy.editor import VideoFileClip, concatenate_videoclips, CompositeVideoClip"
   ]
  },
  {
   "cell_type": "code",
   "execution_count": 9,
   "metadata": {},
   "outputs": [],
   "source": [
    "clip1 = VideoFileClip(file3).subclip(2,18)"
   ]
  },
  {
   "cell_type": "code",
   "execution_count": 10,
   "metadata": {},
   "outputs": [],
   "source": [
    "# clip1.show()\n",
    "# clip1.preview()\n",
    "# clip1.ipython_display()"
   ]
  },
  {
   "cell_type": "code",
   "execution_count": 15,
   "metadata": {},
   "outputs": [],
   "source": [
    "clip2 = VideoFileClip(file3).subclip(37, 47).set_start(15).crossfadein(5)"
   ]
  },
  {
   "cell_type": "code",
   "execution_count": 152,
   "metadata": {},
   "outputs": [],
   "source": [
    "clip3 = VideoFileClip(file3).subclip(48, 57).set_start(24).crossfadein(3)"
   ]
  },
  {
   "cell_type": "code",
   "execution_count": 153,
   "metadata": {},
   "outputs": [],
   "source": [
    "clip4 = VideoFileClip(file3).subclip(70, 75).set_start(32).crossfadein(1.5)"
   ]
  },
  {
   "cell_type": "code",
   "execution_count": 177,
   "metadata": {},
   "outputs": [],
   "source": [
    "clip5 = VideoFileClip(file3).subclip(122, 130).set_start(36).crossfadein(1.5)"
   ]
  },
  {
   "cell_type": "code",
   "execution_count": 178,
   "metadata": {},
   "outputs": [],
   "source": [
    "clip6 = VideoFileClip(file3).subclip(155, 161).set_start(43).crossfadein(1.5)"
   ]
  },
  {
   "cell_type": "code",
   "execution_count": 194,
   "metadata": {},
   "outputs": [],
   "source": [
    "clip7 = VideoFileClip(file3).subclip(177, 181).set_start(48).crossfadein(1.5)"
   ]
  },
  {
   "cell_type": "code",
   "execution_count": 213,
   "metadata": {},
   "outputs": [],
   "source": [
    "clip8 = VideoFileClip(file3).subclip(230, 245).set_start(51).crossfadein(1.5)"
   ]
  },
  {
   "cell_type": "markdown",
   "metadata": {},
   "source": [
    "### Merge Video"
   ]
  },
  {
   "cell_type": "code",
   "execution_count": 214,
   "metadata": {},
   "outputs": [],
   "source": [
    "clips = [clip1, clip2, clip3, clip4, clip5, clip6, clip7, clip8]\n",
    "# clips = [clip7, clip8]"
   ]
  },
  {
   "cell_type": "code",
   "execution_count": 215,
   "metadata": {
    "scrolled": true
   },
   "outputs": [
    {
     "name": "stderr",
     "output_type": "stream",
     "text": [
      "chunk:  83%|████████▎ | 1207/1456 [04:10<00:00, 3272.06it/s, now=None]\n",
      "chunk:   0%|          | 0/1456 [00:00<?, ?it/s, now=None]\u001b[A\n",
      "chunk:   3%|▎         | 48/1456 [00:00<00:02, 476.23it/s, now=None]\u001b[A"
     ]
    },
    {
     "name": "stdout",
     "output_type": "stream",
     "text": [
      "Moviepy - Building video doc.mp4.\n",
      "MoviePy - Writing audio in docTEMP_MPY_wvf_snd.mp3\n"
     ]
    },
    {
     "name": "stderr",
     "output_type": "stream",
     "text": [
      "\n",
      "chunk:  11%|█         | 157/1456 [00:00<00:02, 571.75it/s, now=None]\u001b[A\n",
      "chunk:  19%|█▊        | 272/1456 [00:00<00:01, 671.54it/s, now=None]\u001b[A\n",
      "chunk:  24%|██▎       | 344/1456 [00:00<00:01, 684.24it/s, now=None]\u001b[A\n",
      "chunk:  32%|███▏      | 467/1456 [00:00<00:01, 789.10it/s, now=None]\u001b[A\n",
      "chunk:  38%|███▊      | 551/1456 [00:00<00:01, 770.56it/s, now=None]\u001b[A\n",
      "chunk:  45%|████▍     | 655/1456 [00:00<00:00, 833.98it/s, now=None]\u001b[A\n",
      "chunk:  51%|█████     | 742/1456 [00:00<00:00, 808.33it/s, now=None]\u001b[A\n",
      "chunk:  57%|█████▋    | 826/1456 [00:00<00:00, 796.79it/s, now=None]\u001b[A\n",
      "chunk:  64%|██████▍   | 934/1456 [00:01<00:00, 864.72it/s, now=None]\u001b[A\n",
      "chunk:  70%|███████   | 1024/1456 [00:01<00:00, 832.96it/s, now=None]\u001b[A\n",
      "chunk:  76%|███████▌  | 1110/1456 [00:01<00:00, 812.32it/s, now=None]\u001b[A\n",
      "chunk:  82%|████████▏ | 1194/1456 [00:01<00:00, 792.94it/s, now=None]\u001b[A\n",
      "chunk:  91%|█████████ | 1323/1456 [00:01<00:00, 896.29it/s, now=None]\u001b[A\n",
      "chunk:  83%|████████▎ | 1207/1456 [04:11<00:00, 3272.06it/s, now=None][A\n",
      "t:   0%|          | 0/1650 [00:00<?, ?it/s, now=None]\u001b[A\n",
      "t:   0%|          | 7/1650 [00:00<00:23, 69.31it/s, now=None]\u001b[A"
     ]
    },
    {
     "name": "stdout",
     "output_type": "stream",
     "text": [
      "MoviePy - Done.\n",
      "Moviepy - Writing video doc.mp4\n",
      "\n"
     ]
    },
    {
     "name": "stderr",
     "output_type": "stream",
     "text": [
      "\n",
      "t:   1%|▏         | 21/1650 [00:00<00:19, 81.68it/s, now=None]\u001b[A\n",
      "t:   2%|▏         | 40/1650 [00:00<00:16, 98.34it/s, now=None]\u001b[A\n",
      "t:   3%|▎         | 57/1650 [00:00<00:14, 109.85it/s, now=None]\u001b[A\n",
      "t:   4%|▍         | 73/1650 [00:00<00:13, 120.29it/s, now=None]\u001b[A\n",
      "t:   5%|▌         | 90/1650 [00:00<00:11, 130.81it/s, now=None]\u001b[A\n",
      "t:   6%|▋         | 107/1650 [00:00<00:11, 139.73it/s, now=None]\u001b[A\n",
      "t:   8%|▊         | 125/1650 [00:00<00:10, 147.57it/s, now=None]\u001b[A\n",
      "t:   9%|▊         | 141/1650 [00:00<00:10, 150.77it/s, now=None]\u001b[A\n",
      "t:  10%|▉         | 157/1650 [00:01<00:09, 152.00it/s, now=None]\u001b[A\n",
      "t:  10%|█         | 173/1650 [00:01<00:09, 150.69it/s, now=None]\u001b[A\n",
      "t:  12%|█▏        | 190/1650 [00:01<00:09, 154.60it/s, now=None]\u001b[A\n",
      "t:  13%|█▎        | 208/1650 [00:01<00:09, 159.25it/s, now=None]\u001b[A\n",
      "t:  14%|█▎        | 225/1650 [00:01<00:09, 158.27it/s, now=None]\u001b[A\n",
      "t:  15%|█▍        | 241/1650 [00:01<00:09, 154.70it/s, now=None]\u001b[A\n",
      "t:  16%|█▌        | 257/1650 [00:01<00:09, 154.75it/s, now=None]\u001b[A\n",
      "t:  17%|█▋        | 274/1650 [00:01<00:08, 158.13it/s, now=None]\u001b[A\n",
      "t:  18%|█▊        | 290/1650 [00:01<00:08, 157.34it/s, now=None]\u001b[A\n",
      "t:  19%|█▊        | 307/1650 [00:01<00:08, 158.99it/s, now=None]\u001b[A\n",
      "t:  20%|█▉        | 325/1650 [00:02<00:08, 163.25it/s, now=None]\u001b[A\n",
      "t:  21%|██        | 342/1650 [00:02<00:07, 165.11it/s, now=None]\u001b[A\n",
      "t:  22%|██▏       | 359/1650 [00:02<00:07, 164.30it/s, now=None]\u001b[A\n",
      "t:  23%|██▎       | 376/1650 [00:02<00:07, 159.38it/s, now=None]\u001b[A\n",
      "t:  24%|██▍       | 392/1650 [00:02<00:13, 95.55it/s, now=None] \u001b[A\n",
      "t:  25%|██▍       | 405/1650 [00:02<00:15, 80.44it/s, now=None]\u001b[A\n",
      "t:  25%|██▌       | 416/1650 [00:03<00:17, 71.18it/s, now=None]\u001b[A\n",
      "t:  26%|██▌       | 426/1650 [00:03<00:18, 67.11it/s, now=None]\u001b[A\n",
      "t:  26%|██▋       | 435/1650 [00:03<00:19, 63.58it/s, now=None]\u001b[A\n",
      "t:  27%|██▋       | 443/1650 [00:03<00:19, 61.30it/s, now=None]\u001b[A\n",
      "t:  27%|██▋       | 450/1650 [00:03<00:20, 59.27it/s, now=None]\u001b[A\n",
      "t:  28%|██▊       | 457/1650 [00:03<00:20, 58.55it/s, now=None]\u001b[A\n",
      "t:  28%|██▊       | 464/1650 [00:03<00:20, 57.47it/s, now=None]\u001b[A\n",
      "t:  29%|██▊       | 471/1650 [00:04<00:22, 51.31it/s, now=None]\u001b[A\n",
      "t:  29%|██▉       | 477/1650 [00:04<00:27, 43.30it/s, now=None]\u001b[A\n",
      "t:  29%|██▉       | 482/1650 [00:04<00:27, 43.19it/s, now=None]\u001b[A\n",
      "t:  30%|██▉       | 488/1650 [00:04<00:25, 46.15it/s, now=None]\u001b[A\n",
      "t:  30%|██▉       | 494/1650 [00:04<00:23, 48.56it/s, now=None]\u001b[A\n",
      "t:  30%|███       | 500/1650 [00:04<00:24, 47.10it/s, now=None]\u001b[A\n",
      "t:  31%|███       | 505/1650 [00:04<00:26, 42.46it/s, now=None]\u001b[A\n",
      "t:  31%|███       | 510/1650 [00:05<00:27, 41.99it/s, now=None]\u001b[A\n",
      "t:  31%|███       | 515/1650 [00:05<00:28, 39.69it/s, now=None]\u001b[A\n",
      "t:  32%|███▏      | 520/1650 [00:05<00:29, 37.90it/s, now=None]\u001b[A\n",
      "t:  32%|███▏      | 526/1650 [00:05<00:26, 41.92it/s, now=None]\u001b[A\n",
      "t:  32%|███▏      | 532/1650 [00:05<00:24, 45.48it/s, now=None]\u001b[A\n",
      "t:  33%|███▎      | 538/1650 [00:05<00:24, 45.95it/s, now=None]\u001b[A\n",
      "t:  33%|███▎      | 543/1650 [00:05<00:25, 43.96it/s, now=None]\u001b[A\n",
      "t:  33%|███▎      | 549/1650 [00:05<00:23, 47.51it/s, now=None]\u001b[A\n",
      "t:  34%|███▎      | 555/1650 [00:06<00:22, 49.42it/s, now=None]\u001b[A\n",
      "t:  34%|███▍      | 561/1650 [00:06<00:24, 45.30it/s, now=None]\u001b[A\n",
      "t:  34%|███▍      | 566/1650 [00:06<00:23, 46.47it/s, now=None]\u001b[A\n",
      "t:  35%|███▍      | 572/1650 [00:06<00:22, 48.47it/s, now=None]\u001b[A\n",
      "t:  35%|███▌      | 578/1650 [00:06<00:21, 50.24it/s, now=None]\u001b[A\n",
      "t:  35%|███▌      | 584/1650 [00:06<00:20, 51.47it/s, now=None]\u001b[A\n",
      "t:  36%|███▌      | 590/1650 [00:06<00:19, 53.49it/s, now=None]\u001b[A\n",
      "t:  36%|███▌      | 596/1650 [00:06<00:19, 54.85it/s, now=None]\u001b[A\n",
      "t:  36%|███▋      | 602/1650 [00:07<00:26, 39.60it/s, now=None]\u001b[A\n",
      "t:  37%|███▋      | 607/1650 [00:07<00:27, 37.80it/s, now=None]\u001b[A\n",
      "t:  37%|███▋      | 612/1650 [00:07<00:32, 31.75it/s, now=None]\u001b[A\n",
      "t:  37%|███▋      | 616/1650 [00:07<00:31, 32.32it/s, now=None]\u001b[A\n",
      "t:  38%|███▊      | 620/1650 [00:07<00:32, 31.56it/s, now=None]\u001b[A\n",
      "t:  38%|███▊      | 624/1650 [00:07<00:35, 28.65it/s, now=None]\u001b[A\n",
      "t:  38%|███▊      | 629/1650 [00:07<00:31, 31.97it/s, now=None]\u001b[A\n",
      "t:  38%|███▊      | 635/1650 [00:08<00:27, 36.48it/s, now=None]\u001b[A\n",
      "t:  39%|███▉      | 640/1650 [00:08<00:27, 36.73it/s, now=None]\u001b[A\n",
      "t:  39%|███▉      | 645/1650 [00:08<00:25, 39.32it/s, now=None]\u001b[A\n",
      "t:  39%|███▉      | 651/1650 [00:08<00:23, 42.82it/s, now=None]\u001b[A\n",
      "t:  40%|███▉      | 657/1650 [00:08<00:21, 45.75it/s, now=None]\u001b[A\n",
      "t:  40%|████      | 663/1650 [00:08<00:20, 48.48it/s, now=None]\u001b[A\n",
      "t:  41%|████      | 669/1650 [00:08<00:19, 49.93it/s, now=None]\u001b[A\n",
      "t:  41%|████      | 675/1650 [00:08<00:20, 46.58it/s, now=None]\u001b[A\n",
      "t:  41%|████▏     | 681/1650 [00:09<00:19, 48.83it/s, now=None]\u001b[A\n",
      "t:  42%|████▏     | 687/1650 [00:09<00:18, 50.92it/s, now=None]\u001b[A\n",
      "t:  42%|████▏     | 693/1650 [00:09<00:18, 52.94it/s, now=None]\u001b[A\n",
      "t:  42%|████▏     | 699/1650 [00:09<00:17, 54.16it/s, now=None]\u001b[A\n",
      "t:  43%|████▎     | 705/1650 [00:09<00:17, 54.74it/s, now=None]\u001b[A\n",
      "t:  43%|████▎     | 711/1650 [00:09<00:17, 53.16it/s, now=None]\u001b[A\n",
      "t:  43%|████▎     | 717/1650 [00:09<00:17, 54.14it/s, now=None]\u001b[A\n",
      "t:  44%|████▍     | 723/1650 [00:09<00:16, 55.58it/s, now=None]\u001b[A\n",
      "t:  44%|████▍     | 729/1650 [00:09<00:16, 56.30it/s, now=None]\u001b[A\n",
      "t:  45%|████▍     | 735/1650 [00:10<00:16, 56.89it/s, now=None]\u001b[A\n",
      "t:  45%|████▍     | 741/1650 [00:10<00:15, 57.37it/s, now=None]\u001b[A\n",
      "t:  45%|████▌     | 747/1650 [00:10<00:15, 57.31it/s, now=None]\u001b[A\n",
      "t:  46%|████▌     | 753/1650 [00:10<00:15, 57.53it/s, now=None]\u001b[A\n",
      "t:  46%|████▌     | 760/1650 [00:10<00:15, 58.30it/s, now=None]\u001b[A\n",
      "t:  46%|████▋     | 766/1650 [00:10<00:15, 58.27it/s, now=None]\u001b[A\n",
      "t:  47%|████▋     | 772/1650 [00:10<00:14, 58.74it/s, now=None]\u001b[A\n",
      "t:  47%|████▋     | 778/1650 [00:10<00:14, 58.91it/s, now=None]\u001b[A\n",
      "t:  48%|████▊     | 784/1650 [00:10<00:14, 58.43it/s, now=None]\u001b[A\n",
      "t:  48%|████▊     | 790/1650 [00:10<00:14, 58.06it/s, now=None]\u001b[A\n",
      "t:  48%|████▊     | 796/1650 [00:11<00:14, 57.45it/s, now=None]\u001b[A\n",
      "t:  49%|████▊     | 802/1650 [00:11<00:17, 47.23it/s, now=None]\u001b[A\n",
      "t:  49%|████▉     | 808/1650 [00:11<00:19, 43.78it/s, now=None]\u001b[A\n",
      "t:  49%|████▉     | 813/1650 [00:11<00:20, 41.11it/s, now=None]\u001b[A\n",
      "t:  50%|████▉     | 818/1650 [00:11<00:21, 39.62it/s, now=None]\u001b[A\n",
      "t:  50%|████▉     | 823/1650 [00:11<00:21, 38.30it/s, now=None]\u001b[A\n",
      "t:  50%|█████     | 827/1650 [00:11<00:21, 37.97it/s, now=None]\u001b[A\n",
      "t:  50%|█████     | 833/1650 [00:12<00:19, 41.95it/s, now=None]\u001b[A\n",
      "t:  51%|█████     | 839/1650 [00:12<00:18, 44.93it/s, now=None]\u001b[A\n",
      "t:  51%|█████     | 845/1650 [00:12<00:16, 47.91it/s, now=None]\u001b[A\n",
      "t:  52%|█████▏    | 851/1650 [00:12<00:15, 50.39it/s, now=None]\u001b[A\n",
      "t:  52%|█████▏    | 857/1650 [00:12<00:15, 52.46it/s, now=None]\u001b[A\n",
      "t:  52%|█████▏    | 863/1650 [00:12<00:14, 53.61it/s, now=None]\u001b[A\n",
      "t:  53%|█████▎    | 869/1650 [00:12<00:14, 54.82it/s, now=None]\u001b[A\n",
      "t:  53%|█████▎    | 875/1650 [00:12<00:14, 54.97it/s, now=None]\u001b[A\n",
      "t:  53%|█████▎    | 881/1650 [00:12<00:13, 55.13it/s, now=None]\u001b[A\n",
      "t:  54%|█████▍    | 887/1650 [00:12<00:13, 55.22it/s, now=None]\u001b[A\n",
      "t:  54%|█████▍    | 893/1650 [00:13<00:13, 56.20it/s, now=None]\u001b[A\n",
      "t:  54%|█████▍    | 899/1650 [00:13<00:13, 56.00it/s, now=None]\u001b[A\n",
      "t:  55%|█████▍    | 905/1650 [00:13<00:16, 44.21it/s, now=None]\u001b[A\n",
      "t:  55%|█████▌    | 910/1650 [00:13<00:18, 40.81it/s, now=None]\u001b[A\n",
      "t:  55%|█████▌    | 915/1650 [00:13<00:18, 38.74it/s, now=None]\u001b[A\n",
      "t:  56%|█████▌    | 920/1650 [00:13<00:19, 37.76it/s, now=None]\u001b[A\n",
      "t:  56%|█████▌    | 924/1650 [00:13<00:19, 36.92it/s, now=None]\u001b[A\n",
      "t:  56%|█████▋    | 929/1650 [00:14<00:18, 38.70it/s, now=None]\u001b[A\n",
      "t:  57%|█████▋    | 935/1650 [00:14<00:16, 42.44it/s, now=None]\u001b[A\n",
      "t:  57%|█████▋    | 941/1650 [00:14<00:15, 45.77it/s, now=None]\u001b[A\n",
      "t:  57%|█████▋    | 947/1650 [00:14<00:14, 48.78it/s, now=None]\u001b[A\n",
      "t:  58%|█████▊    | 953/1650 [00:14<00:13, 50.63it/s, now=None]\u001b[A\n",
      "t:  58%|█████▊    | 959/1650 [00:14<00:13, 51.90it/s, now=None]\u001b[A\n",
      "t:  58%|█████▊    | 965/1650 [00:14<00:12, 53.24it/s, now=None]\u001b[A\n",
      "t:  59%|█████▉    | 971/1650 [00:14<00:12, 54.68it/s, now=None]\u001b[A\n",
      "t:  59%|█████▉    | 977/1650 [00:14<00:12, 55.90it/s, now=None]\u001b[A\n",
      "t:  60%|█████▉    | 983/1650 [00:15<00:12, 55.18it/s, now=None]\u001b[A\n",
      "t:  60%|█████▉    | 989/1650 [00:15<00:11, 56.51it/s, now=None]\u001b[A\n",
      "t:  60%|██████    | 995/1650 [00:15<00:11, 56.97it/s, now=None]\u001b[A\n",
      "t:  61%|██████    | 1001/1650 [00:15<00:11, 57.25it/s, now=None]\u001b[A\n",
      "t:  61%|██████    | 1007/1650 [00:15<00:11, 57.64it/s, now=None]\u001b[A\n",
      "t:  61%|██████▏   | 1013/1650 [00:15<00:10, 57.98it/s, now=None]\u001b[A\n",
      "t:  62%|██████▏   | 1019/1650 [00:15<00:10, 57.40it/s, now=None]\u001b[A\n",
      "t:  62%|██████▏   | 1025/1650 [00:15<00:10, 58.13it/s, now=None]\u001b[A\n",
      "t:  62%|██████▏   | 1031/1650 [00:15<00:10, 58.06it/s, now=None]\u001b[A\n",
      "t:  63%|██████▎   | 1037/1650 [00:15<00:10, 57.25it/s, now=None]\u001b[A\n",
      "t:  63%|██████▎   | 1043/1650 [00:16<00:10, 55.56it/s, now=None]\u001b[A\n",
      "t:  64%|██████▎   | 1049/1650 [00:16<00:10, 55.45it/s, now=None]\u001b[A\n",
      "t:  64%|██████▍   | 1055/1650 [00:16<00:10, 56.15it/s, now=None]\u001b[A\n",
      "t:  64%|██████▍   | 1061/1650 [00:16<00:11, 51.72it/s, now=None]\u001b[A\n",
      "t:  65%|██████▍   | 1067/1650 [00:16<00:10, 53.55it/s, now=None]\u001b[A\n",
      "t:  65%|██████▌   | 1073/1650 [00:16<00:10, 53.78it/s, now=None]\u001b[A\n",
      "t:  65%|██████▌   | 1079/1650 [00:16<00:13, 40.79it/s, now=None]\u001b[A\n",
      "t:  66%|██████▌   | 1084/1650 [00:17<00:15, 37.43it/s, now=None]\u001b[A\n",
      "t:  66%|██████▌   | 1089/1650 [00:17<00:15, 36.52it/s, now=None]\u001b[A\n",
      "t:  66%|██████▌   | 1093/1650 [00:17<00:15, 36.04it/s, now=None]\u001b[A\n",
      "t:  66%|██████▋   | 1097/1650 [00:17<00:16, 33.70it/s, now=None]\u001b[A\n",
      "t:  67%|██████▋   | 1101/1650 [00:17<00:16, 33.69it/s, now=None]\u001b[A\n",
      "t:  67%|██████▋   | 1107/1650 [00:17<00:14, 37.79it/s, now=None]\u001b[A\n",
      "t:  67%|██████▋   | 1112/1650 [00:17<00:13, 40.75it/s, now=None]\u001b[A\n",
      "t:  68%|██████▊   | 1118/1650 [00:17<00:12, 44.14it/s, now=None]\u001b[A\n",
      "t:  68%|██████▊   | 1124/1650 [00:17<00:11, 47.44it/s, now=None]\u001b[A\n",
      "t:  68%|██████▊   | 1130/1650 [00:18<00:10, 49.14it/s, now=None]\u001b[A\n",
      "t:  69%|██████▉   | 1136/1650 [00:18<00:10, 50.87it/s, now=None]\u001b[A\n",
      "t:  69%|██████▉   | 1142/1650 [00:18<00:09, 51.94it/s, now=None]\u001b[A\n",
      "t:  70%|██████▉   | 1148/1650 [00:18<00:09, 52.72it/s, now=None]\u001b[A\n",
      "t:  70%|██████▉   | 1154/1650 [00:18<00:09, 53.54it/s, now=None]\u001b[A\n",
      "t:  70%|███████   | 1160/1650 [00:18<00:09, 54.23it/s, now=None]\u001b[A\n",
      "t:  71%|███████   | 1166/1650 [00:18<00:08, 54.89it/s, now=None]\u001b[A\n",
      "t:  71%|███████   | 1172/1650 [00:18<00:08, 54.48it/s, now=None]\u001b[A\n",
      "t:  71%|███████▏  | 1178/1650 [00:18<00:08, 54.95it/s, now=None]\u001b[A\n",
      "t:  72%|███████▏  | 1184/1650 [00:19<00:08, 54.30it/s, now=None]\u001b[A\n",
      "t:  72%|███████▏  | 1190/1650 [00:19<00:08, 54.48it/s, now=None]\u001b[A\n",
      "t:  72%|███████▏  | 1196/1650 [00:19<00:08, 54.22it/s, now=None]\u001b[A\n",
      "t:  73%|███████▎  | 1202/1650 [00:19<00:09, 45.79it/s, now=None]\u001b[A\n",
      "t:  73%|███████▎  | 1207/1650 [00:19<00:10, 40.59it/s, now=None]\u001b[A\n",
      "t:  73%|███████▎  | 1212/1650 [00:19<00:11, 38.13it/s, now=None]\u001b[A\n",
      "t:  74%|███████▍  | 1217/1650 [00:19<00:11, 36.85it/s, now=None]\u001b[A\n",
      "t:  74%|███████▍  | 1221/1650 [00:20<00:12, 35.09it/s, now=None]\u001b[A\n",
      "t:  74%|███████▍  | 1225/1650 [00:20<00:12, 34.62it/s, now=None]\u001b[A\n",
      "t:  75%|███████▍  | 1230/1650 [00:20<00:11, 37.27it/s, now=None]\u001b[A\n",
      "t:  75%|███████▍  | 1236/1650 [00:20<00:10, 40.73it/s, now=None]\u001b[A\n",
      "t:  75%|███████▌  | 1242/1650 [00:20<00:09, 43.63it/s, now=None]\u001b[A\n",
      "t:  76%|███████▌  | 1248/1650 [00:20<00:08, 46.56it/s, now=None]\u001b[A\n",
      "t:  76%|███████▌  | 1254/1650 [00:20<00:08, 48.04it/s, now=None]\u001b[A\n",
      "t:  76%|███████▋  | 1260/1650 [00:20<00:07, 49.92it/s, now=None]\u001b[A\n",
      "t:  77%|███████▋  | 1266/1650 [00:20<00:07, 50.59it/s, now=None]\u001b[A\n",
      "t:  77%|███████▋  | 1272/1650 [00:21<00:07, 51.75it/s, now=None]\u001b[A\n",
      "t:  77%|███████▋  | 1278/1650 [00:21<00:07, 49.94it/s, now=None]\u001b[A\n",
      "t:  78%|███████▊  | 1284/1650 [00:21<00:08, 43.63it/s, now=None]\u001b[A\n",
      "t:  78%|███████▊  | 1289/1650 [00:21<00:09, 39.51it/s, now=None]\u001b[A\n",
      "t:  78%|███████▊  | 1294/1650 [00:21<00:09, 38.42it/s, now=None]\u001b[A\n",
      "t:  79%|███████▊  | 1298/1650 [00:21<00:09, 36.46it/s, now=None]\u001b[A\n",
      "t:  79%|███████▉  | 1302/1650 [00:21<00:09, 36.35it/s, now=None]\u001b[A\n",
      "t:  79%|███████▉  | 1308/1650 [00:21<00:08, 40.24it/s, now=None]\u001b[A\n",
      "t:  80%|███████▉  | 1313/1650 [00:22<00:07, 42.48it/s, now=None]\u001b[A\n",
      "t:  80%|███████▉  | 1319/1650 [00:22<00:07, 45.72it/s, now=None]\u001b[A\n",
      "t:  80%|████████  | 1325/1650 [00:22<00:06, 48.39it/s, now=None]\u001b[A\n",
      "t:  81%|████████  | 1331/1650 [00:22<00:06, 50.29it/s, now=None]\u001b[A\n",
      "t:  81%|████████  | 1337/1650 [00:22<00:06, 50.83it/s, now=None]\u001b[A\n",
      "t:  81%|████████▏ | 1343/1650 [00:22<00:05, 51.94it/s, now=None]\u001b[A\n",
      "t:  82%|████████▏ | 1349/1650 [00:22<00:05, 52.83it/s, now=None]\u001b[A\n",
      "t:  82%|████████▏ | 1355/1650 [00:22<00:05, 53.49it/s, now=None]\u001b[A\n",
      "t:  82%|████████▏ | 1361/1650 [00:22<00:05, 53.45it/s, now=None]\u001b[A\n",
      "t:  83%|████████▎ | 1367/1650 [00:23<00:05, 53.37it/s, now=None]\u001b[A\n",
      "t:  83%|████████▎ | 1373/1650 [00:23<00:05, 53.99it/s, now=None]\u001b[A\n",
      "t:  84%|████████▎ | 1379/1650 [00:23<00:05, 52.86it/s, now=None]\u001b[A\n",
      "t:  84%|████████▍ | 1385/1650 [00:23<00:05, 48.89it/s, now=None]\u001b[A\n",
      "t:  84%|████████▍ | 1391/1650 [00:23<00:05, 51.06it/s, now=None]\u001b[A\n",
      "t:  85%|████████▍ | 1397/1650 [00:23<00:04, 52.73it/s, now=None]\u001b[A\n",
      "t:  85%|████████▌ | 1403/1650 [00:23<00:04, 53.10it/s, now=None]\u001b[A\n",
      "t:  85%|████████▌ | 1409/1650 [00:23<00:04, 53.92it/s, now=None]\u001b[A\n",
      "t:  86%|████████▌ | 1415/1650 [00:23<00:04, 53.91it/s, now=None]\u001b[A\n",
      "t:  86%|████████▌ | 1421/1650 [00:24<00:04, 54.66it/s, now=None]\u001b[A\n",
      "t:  86%|████████▋ | 1427/1650 [00:24<00:04, 54.38it/s, now=None]\u001b[A\n",
      "t:  87%|████████▋ | 1433/1650 [00:24<00:03, 54.63it/s, now=None]\u001b[A\n",
      "t:  87%|████████▋ | 1439/1650 [00:24<00:03, 55.50it/s, now=None]\u001b[A\n",
      "t:  88%|████████▊ | 1445/1650 [00:24<00:03, 56.63it/s, now=None]\u001b[A\n",
      "t:  88%|████████▊ | 1451/1650 [00:24<00:03, 55.96it/s, now=None]\u001b[A\n",
      "t:  88%|████████▊ | 1457/1650 [00:24<00:03, 53.75it/s, now=None]\u001b[A\n",
      "t:  89%|████████▊ | 1463/1650 [00:24<00:03, 52.45it/s, now=None]\u001b[A\n",
      "t:  89%|████████▉ | 1469/1650 [00:24<00:03, 52.01it/s, now=None]\u001b[A\n",
      "t:  89%|████████▉ | 1475/1650 [00:25<00:03, 53.34it/s, now=None]\u001b[A\n",
      "t:  90%|████████▉ | 1481/1650 [00:25<00:03, 53.38it/s, now=None]\u001b[A\n",
      "t:  90%|█████████ | 1487/1650 [00:25<00:03, 53.72it/s, now=None]\u001b[A\n",
      "t:  90%|█████████ | 1493/1650 [00:25<00:02, 53.24it/s, now=None]\u001b[A\n",
      "t:  91%|█████████ | 1499/1650 [00:25<00:02, 51.23it/s, now=None]\u001b[A\n",
      "t:  91%|█████████ | 1505/1650 [00:25<00:02, 51.40it/s, now=None]\u001b[A\n",
      "t:  92%|█████████▏| 1511/1650 [00:25<00:02, 52.23it/s, now=None]\u001b[A\n",
      "t:  92%|█████████▏| 1517/1650 [00:25<00:02, 53.22it/s, now=None]\u001b[A\n",
      "t:  92%|█████████▏| 1523/1650 [00:26<00:02, 54.04it/s, now=None]\u001b[A\n",
      "t:  93%|█████████▎| 1529/1650 [00:26<00:02, 53.68it/s, now=None]\u001b[A\n",
      "t:  93%|█████████▎| 1535/1650 [00:26<00:02, 53.35it/s, now=None]\u001b[A\n",
      "t:  93%|█████████▎| 1541/1650 [00:26<00:02, 53.24it/s, now=None]\u001b[A\n",
      "t:  94%|█████████▍| 1547/1650 [00:26<00:01, 54.34it/s, now=None]\u001b[A\n",
      "t:  94%|█████████▍| 1553/1650 [00:26<00:01, 54.84it/s, now=None]\u001b[A\n",
      "t:  94%|█████████▍| 1559/1650 [00:26<00:01, 55.09it/s, now=None]\u001b[A\n",
      "t:  95%|█████████▍| 1565/1650 [00:26<00:01, 56.07it/s, now=None]\u001b[A\n",
      "t:  95%|█████████▌| 1571/1650 [00:26<00:01, 54.37it/s, now=None]\u001b[A\n",
      "t:  96%|█████████▌| 1577/1650 [00:27<00:01, 52.72it/s, now=None]\u001b[A\n",
      "t:  96%|█████████▌| 1583/1650 [00:27<00:01, 51.04it/s, now=None]\u001b[A\n",
      "t:  96%|█████████▋| 1589/1650 [00:27<00:01, 53.21it/s, now=None]\u001b[A\n",
      "t:  97%|█████████▋| 1595/1650 [00:27<00:01, 53.57it/s, now=None]\u001b[A\n",
      "t:  97%|█████████▋| 1601/1650 [00:27<00:00, 53.99it/s, now=None]\u001b[A\n",
      "t:  97%|█████████▋| 1607/1650 [00:27<00:00, 54.36it/s, now=None]\u001b[A\n",
      "t:  98%|█████████▊| 1613/1650 [00:27<00:00, 54.95it/s, now=None]\u001b[A\n",
      "t:  98%|█████████▊| 1619/1650 [00:27<00:00, 52.64it/s, now=None]\u001b[A\n",
      "t:  98%|█████████▊| 1625/1650 [00:27<00:00, 53.32it/s, now=None]\u001b[A\n",
      "t:  99%|█████████▉| 1631/1650 [00:28<00:00, 53.03it/s, now=None]\u001b[A\n",
      "t:  99%|█████████▉| 1637/1650 [00:28<00:00, 52.80it/s, now=None]\u001b[A\n",
      "t: 100%|█████████▉| 1643/1650 [00:28<00:00, 51.60it/s, now=None]\u001b[A\n",
      "t: 100%|█████████▉| 1649/1650 [00:28<00:00, 51.68it/s, now=None]\u001b[A\n",
      "chunk:  83%|████████▎ | 1207/1456 [04:40<00:00, 3272.06it/s, now=None]"
     ]
    },
    {
     "name": "stdout",
     "output_type": "stream",
     "text": [
      "Moviepy - Done !\n",
      "Moviepy - video ready doc.mp4\n"
     ]
    }
   ],
   "source": [
    "# final_clip = concatenate_videoclips(clips)\n",
    "final_clip = CompositeVideoClip(clips)\n",
    "final_clip.write_videofile('wildlife.mp4')\n",
    "\n",
    "# fade_duration = 1 # 1-second fade-in for each clip\n",
    "# clips1 = [clip.crossfadein(fade_duration) for clip in clips]\n",
    "# final_clip = concatenate_videoclips(clips1, padding = -fade_duration)\n",
    "# final_clip.write_videofile('doc.mp4')"
   ]
  },
  {
   "cell_type": "code",
   "execution_count": 28,
   "metadata": {
    "scrolled": false
   },
   "outputs": [
    {
     "name": "stdout",
     "output_type": "stream",
     "text": [
      "VLC media player 3.0.8 Vetinari (revision 3.0.8-0-gf350b6b5a7)\n",
      "[\u001b[32;1m0000559ccdf11570\u001b[0m] main libvlc: \u001b[0;1mRunning vlc with the default interface. Use 'cvlc' to use vlc without interface.\u001b[0m\n",
      "libva info: VA-API version 1.1.0\n",
      "libva info: va_getDriverName() returns 0\n",
      "libva info: Trying to open /usr/lib/x86_64-linux-gnu/dri/i965_drv_video.so\n",
      "libva info: Found init function __vaDriverInit_1_1\n",
      "libva info: va_openDriver() returns 0\n",
      "[\u001b[32;1m00007f80c8cc9810\u001b[0m] avcodec decoder: \u001b[0;1mUsing Intel i965 driver for Intel(R) Kaby Lake - 2.1.0 for hardware decoding\u001b[0m\n",
      "QObject::~QObject: Timers cannot be stopped from another thread\n"
     ]
    }
   ],
   "source": [
    "!vlc wildlife.mp4"
   ]
  },
  {
   "cell_type": "code",
   "execution_count": 26,
   "metadata": {},
   "outputs": [
    {
     "name": "stdout",
     "output_type": "stream",
     "text": [
      "VLC media player 3.0.8 Vetinari (revision 3.0.8-0-gf350b6b5a7)\n",
      "[\u001b[32;1m000055f4b37ef570\u001b[0m] main libvlc: \u001b[0;1mRunning vlc with the default interface. Use 'cvlc' to use vlc without interface.\u001b[0m\n",
      "libva info: VA-API version 1.1.0\n",
      "libva info: va_getDriverName() returns 0\n",
      "libva info: Trying to open /usr/lib/x86_64-linux-gnu/dri/i965_drv_video.so\n",
      "libva info: Found init function __vaDriverInit_1_1\n",
      "libva info: va_openDriver() returns 0\n",
      "[\u001b[32;1m00007fefa4c63840\u001b[0m] avcodec decoder: \u001b[0;1mUsing Intel i965 driver for Intel(R) Kaby Lake - 2.1.0 for hardware decoding\u001b[0m\n",
      "QObject::~QObject: Timers cannot be stopped from another thread\n"
     ]
    }
   ],
   "source": [
    "!vlc './Emperor penguins  The Greatest Wildlife Show on Earth  BBC Earth.mp4'"
   ]
  },
  {
   "cell_type": "markdown",
   "metadata": {},
   "source": [
    "### Extract Audio and Video"
   ]
  },
  {
   "cell_type": "code",
   "execution_count": 10,
   "metadata": {},
   "outputs": [],
   "source": [
    "from moviepy.editor import VideoFileClip\n",
    "\n",
    "clip = VideoFileClip(file3)"
   ]
  },
  {
   "cell_type": "code",
   "execution_count": 22,
   "metadata": {},
   "outputs": [
    {
     "name": "stderr",
     "output_type": "stream",
     "text": [
      "chunk:   1%|          | 45/5593 [00:00<00:12, 448.89it/s, now=None]"
     ]
    },
    {
     "name": "stdout",
     "output_type": "stream",
     "text": [
      "MoviePy - Writing audio in audio.mp3\n"
     ]
    },
    {
     "name": "stderr",
     "output_type": "stream",
     "text": [
      "                                                                     "
     ]
    },
    {
     "name": "stdout",
     "output_type": "stream",
     "text": [
      "MoviePy - Done.\n"
     ]
    },
    {
     "name": "stderr",
     "output_type": "stream",
     "text": [
      "\r"
     ]
    }
   ],
   "source": [
    "clip.audio.write_audiofile('audio.mp3')"
   ]
  },
  {
   "cell_type": "code",
   "execution_count": 15,
   "metadata": {},
   "outputs": [
    {
     "name": "stdout",
     "output_type": "stream",
     "text": [
      "VLC media player 3.0.8 Vetinari (revision 3.0.8-0-gf350b6b5a7)\n",
      "[\u001b[32;1m0000560a5726f570\u001b[0m] main libvlc: \u001b[0;1mRunning vlc with the default interface. Use 'cvlc' to use vlc without interface.\u001b[0m\n",
      "QObject::~QObject: Timers cannot be stopped from another thread\n"
     ]
    }
   ],
   "source": [
    "!vlc audio.mp3"
   ]
  },
  {
   "cell_type": "code",
   "execution_count": 9,
   "metadata": {},
   "outputs": [],
   "source": [
    "# clip1 = clip.set_audio(clip.audio)\n",
    "# clip1.write_videofile('newclip.mp4')"
   ]
  },
  {
   "cell_type": "code",
   "execution_count": 15,
   "metadata": {},
   "outputs": [],
   "source": [
    "save(file3, 'video')"
   ]
  },
  {
   "cell_type": "code",
   "execution_count": 17,
   "metadata": {},
   "outputs": [
    {
     "name": "stdout",
     "output_type": "stream",
     "text": [
      "VLC media player 3.0.8 Vetinari (revision 3.0.8-0-gf350b6b5a7)\n",
      "[\u001b[32;1m000055708c0ce570\u001b[0m] main libvlc: \u001b[0;1mRunning vlc with the default interface. Use 'cvlc' to use vlc without interface.\u001b[0m\n",
      "libva info: VA-API version 1.1.0\n",
      "libva info: va_getDriverName() returns 0\n",
      "libva info: Trying to open /usr/lib/x86_64-linux-gnu/dri/i965_drv_video.so\n",
      "libva info: Found init function __vaDriverInit_1_1\n",
      "libva info: va_openDriver() returns 0\n",
      "[\u001b[32;1m00007ff8dc09ce60\u001b[0m] vaapi generic error: \u001b[31;1mprofile(3) is not supported\u001b[0m\n",
      "Failed to open VDPAU backend libvdpau_va_gl.so: cannot open shared object file: No such file or directory\n",
      "QObject::~QObject: Timers cannot be stopped from another thread\n"
     ]
    }
   ],
   "source": [
    "!vlc video.mp4"
   ]
  },
  {
   "cell_type": "markdown",
   "metadata": {},
   "source": [
    "### Extracting Caption from YouTube Video"
   ]
  },
  {
   "cell_type": "code",
   "execution_count": 19,
   "metadata": {},
   "outputs": [],
   "source": [
    "video = YouTube(url3)"
   ]
  },
  {
   "cell_type": "code",
   "execution_count": 20,
   "metadata": {},
   "outputs": [
    {
     "data": {
      "text/plain": [
       "{'en': <Caption lang=\"English - en\" code=\"en\">, 'fr': <Caption lang=\"French - fr\" code=\"fr\">, 'de': <Caption lang=\"German - de\" code=\"de\">, 'it': <Caption lang=\"Italian - it\" code=\"it\">}"
      ]
     },
     "execution_count": 20,
     "metadata": {},
     "output_type": "execute_result"
    }
   ],
   "source": [
    "video.captions"
   ]
  },
  {
   "cell_type": "code",
   "execution_count": 26,
   "metadata": {},
   "outputs": [],
   "source": [
    "caption = video.captions.get_by_language_code('en')"
   ]
  },
  {
   "cell_type": "code",
   "execution_count": 28,
   "metadata": {},
   "outputs": [],
   "source": [
    "caption.xml_captions\n",
    "\n",
    "caption_convert_to_srt = caption.generate_srt_captions()"
   ]
  },
  {
   "cell_type": "code",
   "execution_count": 30,
   "metadata": {},
   "outputs": [],
   "source": [
    "text_file = open(\"srt_text.txt\", \"w\")\n",
    "text_file.write(caption_convert_to_srt)\n",
    "text_file.close()"
   ]
  },
  {
   "cell_type": "markdown",
   "metadata": {},
   "source": [
    "### Text and Speech Conversion"
   ]
  },
  {
   "cell_type": "code",
   "execution_count": 36,
   "metadata": {},
   "outputs": [],
   "source": [
    "from gtts import gTTS \n",
    "\n",
    "# The text that you want to convert to audio \n",
    "mytext = 'Welcome to CVIT!'\n",
    "  \n",
    "# Language in which you want to convert \n",
    "language = 'en'\n",
    "  \n",
    "# Passing the text and language to the engine,  \n",
    "# here we have marked slow=False. Which tells  \n",
    "# the module that the converted audio should  \n",
    "# have a high speed \n",
    "myobj = gTTS(text=mytext, lang=language, slow=False) \n",
    "  \n",
    "# Saving the converted audio in a mp3 file named \n",
    "# welcome  \n",
    "myobj.save(\"welcome.mp3\") "
   ]
  },
  {
   "cell_type": "code",
   "execution_count": 37,
   "metadata": {},
   "outputs": [
    {
     "name": "stdout",
     "output_type": "stream",
     "text": [
      "VLC media player 3.0.8 Vetinari (revision 3.0.8-0-gf350b6b5a7)\n",
      "[\u001b[32;1m000055ffbc223570\u001b[0m] main libvlc: \u001b[0;1mRunning vlc with the default interface. Use 'cvlc' to use vlc without interface.\u001b[0m\n",
      "QObject::~QObject: Timers cannot be stopped from another thread\n"
     ]
    }
   ],
   "source": [
    "!vlc welcome.mp3"
   ]
  },
  {
   "cell_type": "code",
   "execution_count": 8,
   "metadata": {},
   "outputs": [],
   "source": [
    "\n",
    "# Python program to translate \n",
    "# speech to text and text to speech \n",
    "  \n",
    "import speech_recognition as sr \n",
    "import pyttsx3  \n",
    "  \n",
    "# Initialize the recognizer  \n",
    "r = sr.Recognizer()  \n",
    "  \n",
    "# Function to convert text to \n",
    "# speech \n",
    "def SpeakText(command): \n",
    "      \n",
    "    # Initialize the engine \n",
    "    engine = pyttsx3.init() \n",
    "    engine.say(command)  \n",
    "    engine.runAndWait() \n",
    "      \n",
    "\n",
    "# Loop infinitely for user to \n",
    "# speak \n",
    "\n",
    "def speech_to_text():\n",
    "\n",
    "    while(1):     \n",
    "\n",
    "        # Exception handling to handle \n",
    "        # exceptions at the runtime \n",
    "        try: \n",
    "\n",
    "#             output = sr.AudioFile('output.wav')\n",
    "#             with output as source:\n",
    "#                 audio = r.record(source)\n",
    "#                 MyText = r.recognize_google(audio)\n",
    "#                 MyText = MyText.lower() \n",
    "#                 print(\"Did you say \"+MyText) \n",
    "#                 SpeakText(MyText)\n",
    "            \n",
    "            # use the microphone as source for input. \n",
    "            with sr.Microphone() as source2: \n",
    "\n",
    "                # wait for a second to let the recognizer \n",
    "                # adjust the energy threshold based on \n",
    "                # the surrounding noise level  \n",
    "                r.adjust_for_ambient_noise(source2, duration=0.2) \n",
    "\n",
    "                #listens for the user's input  \n",
    "#                 audio2 = r.listen(source2)\n",
    "                audio2 = r.record(source2, duration=4) \n",
    "\n",
    "                # Using google to recognize audio \n",
    "                MyText = r.recognize_google(audio2) \n",
    "                MyText = MyText.lower() \n",
    "\n",
    "                print(\"Did you say \"+MyText) \n",
    "    #             SpeakText(MyText) \n",
    "\n",
    "        except sr.RequestError as e: \n",
    "            print(\"Could not request results; {0}\".format(e)) \n",
    "\n",
    "        except sr.UnknownValueError:\n",
    "            print(\"unknown error occured\") \n"
   ]
  },
  {
   "cell_type": "code",
   "execution_count": 63,
   "metadata": {
    "collapsed": true
   },
   "outputs": [
    {
     "name": "stdout",
     "output_type": "stream",
     "text": [
      "unknown error occured\n",
      "unknown error occured\n",
      "unknown error occured\n"
     ]
    },
    {
     "ename": "KeyboardInterrupt",
     "evalue": "",
     "output_type": "error",
     "traceback": [
      "\u001b[0;31m---------------------------------------------------------------------------\u001b[0m",
      "\u001b[0;31mKeyboardInterrupt\u001b[0m                         Traceback (most recent call last)",
      "\u001b[0;32m<ipython-input-63-532894d48116>\u001b[0m in \u001b[0;36m<module>\u001b[0;34m\u001b[0m\n\u001b[0;32m----> 1\u001b[0;31m \u001b[0mspeech_to_text\u001b[0m\u001b[0;34m(\u001b[0m\u001b[0;34m)\u001b[0m\u001b[0;34m\u001b[0m\u001b[0;34m\u001b[0m\u001b[0m\n\u001b[0m",
      "\u001b[0;32m<ipython-input-62-fc9dda32e7ef>\u001b[0m in \u001b[0;36mspeech_to_text\u001b[0;34m()\u001b[0m\n\u001b[1;32m     39\u001b[0m                 \u001b[0;31m#listens for the user's input\u001b[0m\u001b[0;34m\u001b[0m\u001b[0;34m\u001b[0m\u001b[0;34m\u001b[0m\u001b[0m\n\u001b[1;32m     40\u001b[0m \u001b[0;31m#                 audio2 = r.listen(source2)\u001b[0m\u001b[0;34m\u001b[0m\u001b[0;34m\u001b[0m\u001b[0;34m\u001b[0m\u001b[0m\n\u001b[0;32m---> 41\u001b[0;31m                 \u001b[0maudio2\u001b[0m \u001b[0;34m=\u001b[0m \u001b[0mr\u001b[0m\u001b[0;34m.\u001b[0m\u001b[0mrecord\u001b[0m\u001b[0;34m(\u001b[0m\u001b[0msource2\u001b[0m\u001b[0;34m,\u001b[0m \u001b[0mduration\u001b[0m\u001b[0;34m=\u001b[0m\u001b[0;36m4\u001b[0m\u001b[0;34m)\u001b[0m\u001b[0;34m\u001b[0m\u001b[0;34m\u001b[0m\u001b[0m\n\u001b[0m\u001b[1;32m     42\u001b[0m \u001b[0;34m\u001b[0m\u001b[0m\n\u001b[1;32m     43\u001b[0m                 \u001b[0;31m# Using google to recognize audio\u001b[0m\u001b[0;34m\u001b[0m\u001b[0;34m\u001b[0m\u001b[0;34m\u001b[0m\u001b[0m\n",
      "\u001b[0;32m~/anaconda3/envs/cvit/lib/python3.7/site-packages/speech_recognition/__init__.py\u001b[0m in \u001b[0;36mrecord\u001b[0;34m(self, source, duration, offset)\u001b[0m\n\u001b[1;32m    495\u001b[0m                     \u001b[0moffset_reached\u001b[0m \u001b[0;34m=\u001b[0m \u001b[0;32mTrue\u001b[0m\u001b[0;34m\u001b[0m\u001b[0;34m\u001b[0m\u001b[0m\n\u001b[1;32m    496\u001b[0m \u001b[0;34m\u001b[0m\u001b[0m\n\u001b[0;32m--> 497\u001b[0;31m             \u001b[0mbuffer\u001b[0m \u001b[0;34m=\u001b[0m \u001b[0msource\u001b[0m\u001b[0;34m.\u001b[0m\u001b[0mstream\u001b[0m\u001b[0;34m.\u001b[0m\u001b[0mread\u001b[0m\u001b[0;34m(\u001b[0m\u001b[0msource\u001b[0m\u001b[0;34m.\u001b[0m\u001b[0mCHUNK\u001b[0m\u001b[0;34m)\u001b[0m\u001b[0;34m\u001b[0m\u001b[0;34m\u001b[0m\u001b[0m\n\u001b[0m\u001b[1;32m    498\u001b[0m             \u001b[0;32mif\u001b[0m \u001b[0mlen\u001b[0m\u001b[0;34m(\u001b[0m\u001b[0mbuffer\u001b[0m\u001b[0;34m)\u001b[0m \u001b[0;34m==\u001b[0m \u001b[0;36m0\u001b[0m\u001b[0;34m:\u001b[0m \u001b[0;32mbreak\u001b[0m\u001b[0;34m\u001b[0m\u001b[0;34m\u001b[0m\u001b[0m\n\u001b[1;32m    499\u001b[0m \u001b[0;34m\u001b[0m\u001b[0m\n",
      "\u001b[0;32m~/anaconda3/envs/cvit/lib/python3.7/site-packages/speech_recognition/__init__.py\u001b[0m in \u001b[0;36mread\u001b[0;34m(self, size)\u001b[0m\n\u001b[1;32m    159\u001b[0m \u001b[0;34m\u001b[0m\u001b[0m\n\u001b[1;32m    160\u001b[0m         \u001b[0;32mdef\u001b[0m \u001b[0mread\u001b[0m\u001b[0;34m(\u001b[0m\u001b[0mself\u001b[0m\u001b[0;34m,\u001b[0m \u001b[0msize\u001b[0m\u001b[0;34m)\u001b[0m\u001b[0;34m:\u001b[0m\u001b[0;34m\u001b[0m\u001b[0;34m\u001b[0m\u001b[0m\n\u001b[0;32m--> 161\u001b[0;31m             \u001b[0;32mreturn\u001b[0m \u001b[0mself\u001b[0m\u001b[0;34m.\u001b[0m\u001b[0mpyaudio_stream\u001b[0m\u001b[0;34m.\u001b[0m\u001b[0mread\u001b[0m\u001b[0;34m(\u001b[0m\u001b[0msize\u001b[0m\u001b[0;34m,\u001b[0m \u001b[0mexception_on_overflow\u001b[0m\u001b[0;34m=\u001b[0m\u001b[0;32mFalse\u001b[0m\u001b[0;34m)\u001b[0m\u001b[0;34m\u001b[0m\u001b[0;34m\u001b[0m\u001b[0m\n\u001b[0m\u001b[1;32m    162\u001b[0m \u001b[0;34m\u001b[0m\u001b[0m\n\u001b[1;32m    163\u001b[0m         \u001b[0;32mdef\u001b[0m \u001b[0mclose\u001b[0m\u001b[0;34m(\u001b[0m\u001b[0mself\u001b[0m\u001b[0;34m)\u001b[0m\u001b[0;34m:\u001b[0m\u001b[0;34m\u001b[0m\u001b[0;34m\u001b[0m\u001b[0m\n",
      "\u001b[0;32m~/anaconda3/envs/cvit/lib/python3.7/site-packages/pyaudio.py\u001b[0m in \u001b[0;36mread\u001b[0;34m(self, num_frames, exception_on_overflow)\u001b[0m\n\u001b[1;32m    606\u001b[0m                           paCanNotReadFromAnOutputOnlyStream)\n\u001b[1;32m    607\u001b[0m \u001b[0;34m\u001b[0m\u001b[0m\n\u001b[0;32m--> 608\u001b[0;31m         \u001b[0;32mreturn\u001b[0m \u001b[0mpa\u001b[0m\u001b[0;34m.\u001b[0m\u001b[0mread_stream\u001b[0m\u001b[0;34m(\u001b[0m\u001b[0mself\u001b[0m\u001b[0;34m.\u001b[0m\u001b[0m_stream\u001b[0m\u001b[0;34m,\u001b[0m \u001b[0mnum_frames\u001b[0m\u001b[0;34m,\u001b[0m \u001b[0mexception_on_overflow\u001b[0m\u001b[0;34m)\u001b[0m\u001b[0;34m\u001b[0m\u001b[0;34m\u001b[0m\u001b[0m\n\u001b[0m\u001b[1;32m    609\u001b[0m \u001b[0;34m\u001b[0m\u001b[0m\n\u001b[1;32m    610\u001b[0m     \u001b[0;32mdef\u001b[0m \u001b[0mget_read_available\u001b[0m\u001b[0;34m(\u001b[0m\u001b[0mself\u001b[0m\u001b[0;34m)\u001b[0m\u001b[0;34m:\u001b[0m\u001b[0;34m\u001b[0m\u001b[0;34m\u001b[0m\u001b[0m\n",
      "\u001b[0;31mKeyboardInterrupt\u001b[0m: "
     ]
    }
   ],
   "source": [
    "speech_to_text()"
   ]
  },
  {
   "cell_type": "code",
   "execution_count": 59,
   "metadata": {},
   "outputs": [],
   "source": [
    "SpeakText('Winter has taken its toll Winter has taken its toll')"
   ]
  },
  {
   "cell_type": "code",
   "execution_count": 27,
   "metadata": {},
   "outputs": [
    {
     "name": "stdout",
     "output_type": "stream",
     "text": [
      "200\n"
     ]
    }
   ],
   "source": [
    "import pyttsx3\n",
    "engine = pyttsx3.init() # object creation\n",
    "\n",
    "\"\"\" RATE\"\"\"\n",
    "rate = engine.getProperty('rate')   # getting details of current speaking rate\n",
    "print (rate)                        #printing current voice rate\n",
    "engine.setProperty('rate', 200)     # setting up new voice rate\n",
    "\n",
    "\n",
    "# \"\"\"VOLUME\"\"\"\n",
    "# volume = engine.getProperty('volume')   #getting to know current volume level (min=0 and max=1)\n",
    "# print (volume)                          #printing current volume level\n",
    "# engine.setProperty('volume',1.0)    # setting up volume level  between 0 and 1\n",
    "\n",
    "# \"\"\"VOICE\"\"\"\n",
    "# voices = engine.getProperty('voices')       #getting details of current voice\n",
    "# #engine.setProperty('voice', voices[0].id)  #changing index, changes voices. o for male\n",
    "# engine.setProperty('voice', voices[1].id)   #changing index, changes voices. 1 for female\n",
    "\n",
    "# engine.say(\"Hello World!\")\n",
    "# engine.say('My current speaking rate is ' + str(rate))\n",
    "# engine.runAndWait()\n",
    "# engine.stop()\n",
    "\n",
    "# \"\"\"Saving Voice to a file\"\"\"\n",
    "# # On linux make sure that 'espeak' and 'ffmpeg' are installed\n",
    "# engine.save_to_file('Hello World       Hello World', 'test.mp3')\n",
    "# # engine.save_to_file('Hello World', 'test.mp3')\n",
    "# engine.runAndWait()"
   ]
  },
  {
   "cell_type": "code",
   "execution_count": 25,
   "metadata": {},
   "outputs": [],
   "source": [
    "# # Print all available voices\n",
    "# import pyttsx3\n",
    "# engine = pyttsx3.init()\n",
    "\n",
    "# voices = engine.getProperty('voices')\n",
    "\n",
    "# for voice in voices:\n",
    "#     print(\"Voice:\")\n",
    "#     print(\" - ID: %s\" % voice.id)\n",
    "#     print(\" - Name: %s\" % voice.name)\n",
    "#     print(\" - Languages: %s\" % voice.languages)\n",
    "#     print(\" - Gender: %s\" % voice.gender)\n",
    "#     print(\" - Age: %s\" % voice.age)"
   ]
  },
  {
   "cell_type": "code",
   "execution_count": 26,
   "metadata": {},
   "outputs": [],
   "source": [
    "with open('new_text.txt') as f:\n",
    "    txt = f.read()\n",
    "    SpeakText(txt)"
   ]
  },
  {
   "cell_type": "markdown",
   "metadata": {},
   "source": [
    "### Adding Voice"
   ]
  },
  {
   "cell_type": "code",
   "execution_count": 39,
   "metadata": {},
   "outputs": [
    {
     "name": "stdout",
     "output_type": "stream",
     "text": [
      "Starting: Speak now!\n",
      "finished\n"
     ]
    }
   ],
   "source": [
    "import sounddevice as sd\n",
    "from scipy.io.wavfile import write\n",
    "import os\n",
    "\n",
    "fs = 44100  # this is the frequency sampling; also: 4999, 64000\n",
    "seconds = 2  # Duration of recording\n",
    "\n",
    "myrecording = sd.rec(int(seconds * fs), samplerate=fs, channels=2)\n",
    "print(\"Starting: Speak now!\")\n",
    "sd.wait()  # Wait until recording is finished\n",
    "print(\"finished\")\n",
    "write('output.wav', fs, myrecording)  # Save as WAV file"
   ]
  },
  {
   "cell_type": "code",
   "execution_count": 38,
   "metadata": {},
   "outputs": [
    {
     "name": "stdout",
     "output_type": "stream",
     "text": [
      "Recording...\n",
      "Finished recording.\n"
     ]
    }
   ],
   "source": [
    "import pyaudio\n",
    "import wave\n",
    "\n",
    "# the file name output you want to record into\n",
    "filename = \"output.wav\"\n",
    "# set the chunk size of 1024 samples\n",
    "chunk = 1024\n",
    "# sample format\n",
    "FORMAT = pyaudio.paInt16\n",
    "# mono, change to 2 if you want stereo\n",
    "channels = 2\n",
    "# 44100 samples per second\n",
    "sample_rate = 44100\n",
    "record_seconds = 66\n",
    "# initialize PyAudio object\n",
    "p = pyaudio.PyAudio()\n",
    "\n",
    "# print(\"----------------------record device list---------------------\")\n",
    "# info = p.get_host_api_info_by_index(0)\n",
    "# numdevices = info.get('deviceCount')\n",
    "# for i in range(0, numdevices):\n",
    "#     if (p.get_device_info_by_host_api_device_index(0, i).get('maxInputChannels')) > 0:\n",
    "#         print(\"Input Device id \", i, \" - \", p.get_device_info_by_host_api_device_index(0, i).get('name'))\n",
    "# print(\"-------------------------------------------------------------\")\n",
    "\n",
    "# open stream object as input & output\n",
    "stream = p.open(format=FORMAT,\n",
    "                channels=channels,\n",
    "                rate=sample_rate,\n",
    "                input=True,\n",
    "                output=True,\n",
    "                frames_per_buffer=chunk)\n",
    "frames = []\n",
    "print(\"Recording...\")\n",
    "for i in range(int(44100 / chunk * record_seconds)):\n",
    "    data = stream.read(chunk)\n",
    "    # if you want to hear your voice while recording\n",
    "    # stream.write(data)\n",
    "    frames.append(data)\n",
    "print(\"Finished recording.\")\n",
    "# stop and close stream\n",
    "stream.stop_stream()\n",
    "stream.close()\n",
    "# terminate pyaudio object\n",
    "p.terminate()\n",
    "# save audio file\n",
    "# open the file in 'write bytes' mode\n",
    "wf = wave.open(filename, \"wb\")\n",
    "# set the channels\n",
    "wf.setnchannels(channels)\n",
    "# set the sample format\n",
    "wf.setsampwidth(p.get_sample_size(FORMAT))\n",
    "# set the sample rate\n",
    "wf.setframerate(sample_rate)\n",
    "# write the frames as bytes\n",
    "wf.writeframes(b\"\".join(frames))\n",
    "# close the file\n",
    "wf.close()"
   ]
  },
  {
   "cell_type": "code",
   "execution_count": 39,
   "metadata": {},
   "outputs": [
    {
     "name": "stdout",
     "output_type": "stream",
     "text": [
      "VLC media player 3.0.8 Vetinari (revision 3.0.8-0-gf350b6b5a7)\n",
      "[\u001b[32;1m0000558ed0d1f570\u001b[0m] main libvlc: \u001b[0;1mRunning vlc with the default interface. Use 'cvlc' to use vlc without interface.\u001b[0m\n",
      "QObject::~QObject: Timers cannot be stopped from another thread\n"
     ]
    }
   ],
   "source": [
    "!vlc output.wav"
   ]
  },
  {
   "cell_type": "code",
   "execution_count": 40,
   "metadata": {},
   "outputs": [
    {
     "data": {
      "text/plain": [
       "<_io.BufferedRandom name='myfile.mp3'>"
      ]
     },
     "execution_count": 40,
     "metadata": {},
     "output_type": "execute_result"
    }
   ],
   "source": [
    "from pydub import AudioSegment\n",
    "sound = AudioSegment.from_wav('output.wav')\n",
    "\n",
    "sound.export('myfile.mp3', format='mp3')"
   ]
  },
  {
   "cell_type": "code",
   "execution_count": 20,
   "metadata": {},
   "outputs": [
    {
     "name": "stdout",
     "output_type": "stream",
     "text": [
      "VLC media player 3.0.8 Vetinari (revision 3.0.8-0-gf350b6b5a7)\n",
      "[\u001b[32;1m000055e3e2f02570\u001b[0m] main libvlc: \u001b[0;1mRunning vlc with the default interface. Use 'cvlc' to use vlc without interface.\u001b[0m\n",
      "QObject::~QObject: Timers cannot be stopped from another thread\n"
     ]
    }
   ],
   "source": [
    "!vlc myfile.mp3"
   ]
  },
  {
   "cell_type": "code",
   "execution_count": 41,
   "metadata": {},
   "outputs": [
    {
     "name": "stderr",
     "output_type": "stream",
     "text": [
      "chunk:   5%|▌         | 75/1457 [00:00<00:01, 732.83it/s, now=None]"
     ]
    },
    {
     "name": "stdout",
     "output_type": "stream",
     "text": [
      "Moviepy - Building video newclip.mp4.\n",
      "MoviePy - Writing audio in newclipTEMP_MPY_wvf_snd.mp3\n"
     ]
    },
    {
     "name": "stderr",
     "output_type": "stream",
     "text": [
      "t:   2%|▏         | 33/1652 [00:00<00:05, 321.99it/s, now=None]      "
     ]
    },
    {
     "name": "stdout",
     "output_type": "stream",
     "text": [
      "MoviePy - Done.\n",
      "Moviepy - Writing video newclip.mp4\n",
      "\n"
     ]
    },
    {
     "name": "stderr",
     "output_type": "stream",
     "text": [
      "                                                                 \r"
     ]
    },
    {
     "name": "stdout",
     "output_type": "stream",
     "text": [
      "Moviepy - Done !\n",
      "Moviepy - video ready newclip.mp4\n"
     ]
    }
   ],
   "source": [
    "from moviepy.editor import VideoFileClip, AudioFileClip\n",
    "\n",
    "clip = VideoFileClip('wildlife.mp4')\n",
    "\n",
    "clip1 = clip.set_audio(AudioFileClip('myfile.mp3'))\n",
    "clip1.write_videofile('newclip.mp4')"
   ]
  },
  {
   "cell_type": "code",
   "execution_count": 42,
   "metadata": {},
   "outputs": [
    {
     "name": "stdout",
     "output_type": "stream",
     "text": [
      "VLC media player 3.0.8 Vetinari (revision 3.0.8-0-gf350b6b5a7)\n",
      "[\u001b[32;1m0000558c158eb570\u001b[0m] main libvlc: \u001b[0;1mRunning vlc with the default interface. Use 'cvlc' to use vlc without interface.\u001b[0m\n",
      "libva info: VA-API version 1.1.0\n",
      "libva info: va_getDriverName() returns 0\n",
      "libva info: Trying to open /usr/lib/x86_64-linux-gnu/dri/i965_drv_video.so\n",
      "libva info: Found init function __vaDriverInit_1_1\n",
      "libva info: va_openDriver() returns 0\n",
      "[\u001b[32;1m00007f7c88cc9860\u001b[0m] avcodec decoder: \u001b[0;1mUsing Intel i965 driver for Intel(R) Kaby Lake - 2.1.0 for hardware decoding\u001b[0m\n",
      "QObject::~QObject: Timers cannot be stopped from another thread\n"
     ]
    }
   ],
   "source": [
    "!vlc newclip.mp4"
   ]
  },
  {
   "cell_type": "code",
   "execution_count": 36,
   "metadata": {},
   "outputs": [
    {
     "name": "stdout",
     "output_type": "stream",
     "text": [
      "Did you say 5 august bolo temperatures allowed the colony to break up winter has taken its toll and emails have lost how their body weight after 4 months of fasting there is nothing solid in a male stomach but he is able to produce a protein rich secretion but that is barely enough to keep a check life vivek bettendorf from two months fishing the females reappear with magically accurate timing of email arise to take over at first the male is a little reluctant to abandon his offspring now at last the chicken feed properly from now and males and females will take turns to go fishing it may involve travelling thousands of kilometres in search of food\n"
     ]
    }
   ],
   "source": [
    "import speech_recognition as sr \n",
    "import pyttsx3  \n",
    "  \n",
    "# Initialize the recognizer  \n",
    "r = sr.Recognizer()  \n",
    "\n",
    "def SpeakText(command): \n",
    "      \n",
    "    # Initialize the engine \n",
    "    engine = pyttsx3.init() \n",
    "    engine.say(command)  \n",
    "    engine.runAndWait() \n",
    "\n",
    "    \n",
    "output = sr.AudioFile('output.wav')\n",
    "with output as source:\n",
    "    audio = r.record(source)\n",
    "    MyText = r.recognize_google(audio)\n",
    "    MyText = MyText.lower() \n",
    "    print(\"Did you say \"+MyText) \n",
    "    SpeakText(MyText)"
   ]
  },
  {
   "cell_type": "code",
   "execution_count": null,
   "metadata": {},
   "outputs": [],
   "source": []
  }
 ],
 "metadata": {
  "kernelspec": {
   "display_name": "Python (cvit)",
   "language": "python",
   "name": "cvit"
  },
  "language_info": {
   "codemirror_mode": {
    "name": "ipython",
    "version": 3
   },
   "file_extension": ".py",
   "mimetype": "text/x-python",
   "name": "python",
   "nbconvert_exporter": "python",
   "pygments_lexer": "ipython3",
   "version": "3.7.7"
  }
 },
 "nbformat": 4,
 "nbformat_minor": 4
}
