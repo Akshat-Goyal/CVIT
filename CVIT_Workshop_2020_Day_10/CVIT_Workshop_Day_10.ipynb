{
  "nbformat": 4,
  "nbformat_minor": 0,
  "metadata": {
    "kernelspec": {
      "display_name": "Base",
      "language": "python",
      "name": "myenv"
    },
    "language_info": {
      "codemirror_mode": {
        "name": "ipython",
        "version": 3
      },
      "file_extension": ".py",
      "mimetype": "text/x-python",
      "name": "python",
      "nbconvert_exporter": "python",
      "pygments_lexer": "ipython3",
      "version": "3.7.4"
    },
    "colab": {
      "name": "CVIT_Workshop_Day_10.ipynb",
      "provenance": [],
      "collapsed_sections": []
    }
  },
  "cells": [
    {
      "cell_type": "code",
      "metadata": {
        "id": "9xuXQ8YdhM5z",
        "colab_type": "code",
        "colab": {}
      },
      "source": [
        "from google.colab import drive\n",
        "drive.mount('/content/drive')"
      ],
      "execution_count": 0,
      "outputs": []
    },
    {
      "cell_type": "code",
      "metadata": {
        "id": "120vlXJQf6Fl",
        "colab_type": "code",
        "colab": {}
      },
      "source": [
        "# !pip3 install torch\n",
        "# !pip3 install torchvision"
      ],
      "execution_count": 0,
      "outputs": []
    },
    {
      "cell_type": "code",
      "metadata": {
        "id": "FEI4qvVGf6F2",
        "colab_type": "code",
        "colab": {}
      },
      "source": [
        "import torch\n",
        "import torch.nn as nn\n",
        "import torch.nn.functional as F\n",
        "from torchvision import datasets, transforms\n",
        "from torch import optim\n",
        "from torch.autograd import Variable"
      ],
      "execution_count": 0,
      "outputs": []
    },
    {
      "cell_type": "code",
      "metadata": {
        "id": "YwNRRDgWf6GD",
        "colab_type": "code",
        "colab": {}
      },
      "source": [
        "# Define a transform to normalize the data\n",
        "transform = transforms.Compose([transforms.ToTensor(),\n",
        "                                transforms.Normalize((0.5,), (0.5,)),\n",
        "                              ])"
      ],
      "execution_count": 0,
      "outputs": []
    },
    {
      "cell_type": "code",
      "metadata": {
        "id": "pp8wY5W1f6GM",
        "colab_type": "code",
        "outputId": "a76f5af1-c354-4ff1-f7c5-60f1cb717ea4",
        "colab": {
          "base_uri": "https://localhost:8080/",
          "height": 34
        }
      },
      "source": [
        "trainset = datasets.CIFAR10('./data', download=True, train=True, transform=transform)\n",
        "trainloader = torch.utils.data.DataLoader(trainset, batch_size=50, shuffle=True)\n",
        "# trainset = datasets.MNIST('~/.pytorch/MNIST_data/', download=True, train=True, transform=transform)\n",
        "# trainloader = torch.utils.data.DataLoader(trainset, batch_size=64, shuffle=True)"
      ],
      "execution_count": 0,
      "outputs": [
        {
          "output_type": "stream",
          "text": [
            "Files already downloaded and verified\n"
          ],
          "name": "stdout"
        }
      ]
    },
    {
      "cell_type": "code",
      "metadata": {
        "id": "O8UUUraJf6GV",
        "colab_type": "code",
        "outputId": "7c648868-3a1c-4f30-fdb4-fb9eb81fe07d",
        "colab": {
          "base_uri": "https://localhost:8080/",
          "height": 51
        }
      },
      "source": [
        "testset = datasets.CIFAR10('./data', download=True, train=False, transform=transform)\n",
        "testloader = torch.utils.data.DataLoader(testset, batch_size=50, shuffle=True)\n",
        "\n",
        "# testset = datasets.MNIST('~/.pytorch/MNIST_data/', download=True, train=False, transform=transform)\n",
        "# testloader = torch.utils.data.DataLoader(testset, batch_size=64, shuffle=True)"
      ],
      "execution_count": 0,
      "outputs": [
        {
          "output_type": "stream",
          "text": [
            "Files already downloaded and verified\n",
            "torch.Size([50, 3, 32, 32])\n"
          ],
          "name": "stdout"
        }
      ]
    },
    {
      "cell_type": "code",
      "metadata": {
        "id": "fvw3UgD25sTa",
        "colab_type": "code",
        "outputId": "ac1d830c-28ca-454d-bd9f-735faaaf4ba5",
        "colab": {
          "base_uri": "https://localhost:8080/",
          "height": 34
        }
      },
      "source": [
        "for data, labels in testloader:\n",
        "  print(data.shape)\n",
        "  break"
      ],
      "execution_count": 0,
      "outputs": [
        {
          "output_type": "stream",
          "text": [
            "torch.Size([50, 3, 32, 32])\n"
          ],
          "name": "stdout"
        }
      ]
    },
    {
      "cell_type": "code",
      "metadata": {
        "id": "qOZrd_zxtni2",
        "colab_type": "code",
        "colab": {}
      },
      "source": [
        "class CNNModel(nn.Module):\n",
        "    def __init__(self):\n",
        "        super(CNNModel, self).__init__()\n",
        "        \n",
        "        # Convolution 1\n",
        "        self.cnn1 = nn.Conv2d(in_channels=3, out_channels=16, kernel_size=5, stride=1, padding=2)\n",
        "        self.relu1 = nn.ReLU()\n",
        "        \n",
        "        # Max pool 1\n",
        "        self.maxpool1 = nn.MaxPool2d(kernel_size=2)\n",
        "     \n",
        "        # Convolution 2\n",
        "        self.cnn2 = nn.Conv2d(in_channels=16, out_channels=32, kernel_size=5, stride=1, padding=2)\n",
        "        self.relu2 = nn.ReLU()\n",
        "        \n",
        "        # Max pool 2\n",
        "        self.maxpool2 = nn.MaxPool2d(kernel_size=2)\n",
        "        \n",
        "        # Fully connected 1 (readout)\n",
        "        self.fc1 = nn.Linear(32 * 8 * 8, 10) \n",
        "\n",
        "        self.softmax = torch.nn.Softmax(dim = 1)\n",
        "    \n",
        "    def forward(self, x):\n",
        "        # Convolution 1\n",
        "        out = self.cnn1(x)\n",
        "        out = self.relu1(out)\n",
        "        \n",
        "        # Max pool 1\n",
        "        out = self.maxpool1(out)\n",
        "        \n",
        "        # Convolution 2 \n",
        "        out = self.cnn2(out)\n",
        "        out = self.relu2(out)\n",
        "        \n",
        "        # Max pool 2 \n",
        "        out = self.maxpool2(out)\n",
        "        \n",
        "        # Resize\n",
        "        # Original size: (100, 32, 8, 8)\n",
        "        # out.size(0): 100\n",
        "        # New out size: (100, 32*8*8)\n",
        "        out = out.view(out.size(0), -1)\n",
        "\n",
        "        # Linear function (readout)\n",
        "        out = self.fc1(out)\n",
        "        out = self.softmax(out)\n",
        "        return out"
      ],
      "execution_count": 0,
      "outputs": []
    },
    {
      "cell_type": "code",
      "metadata": {
        "id": "s1HWHFoL22e0",
        "colab_type": "code",
        "colab": {}
      },
      "source": [
        "# Create an object of class MLP\n",
        "model = CNNModel()\n",
        "\n",
        "# Define the loss\n",
        "criterion = torch.nn.CrossEntropyLoss()\n",
        "\n",
        "# Optimizers require the parameters to optimize and a learning rate\n",
        "optimizer = optim.SGD(model.parameters(), lr = 0.05)"
      ],
      "execution_count": 0,
      "outputs": []
    },
    {
      "cell_type": "code",
      "metadata": {
        "id": "E3L2zBUP3lv5",
        "colab_type": "code",
        "outputId": "f96c88a1-5288-4e45-80d1-2986c4767f4d",
        "colab": {
          "base_uri": "https://localhost:8080/",
          "height": 493
        }
      },
      "source": [
        "epochs = 100\n",
        "for e in range(epochs):\n",
        "    print(\"Epoch \", (e + 1))\n",
        "    running_loss = 0\n",
        "    for images, labels in trainloader:\n",
        "        optimizer.zero_grad()\n",
        "        logits = model.forward(images)\n",
        "        loss = criterion(logits, labels)\n",
        "        loss.backward()\n",
        "        optimizer.step()\n",
        "        running_loss += loss.item()\n",
        "    else:\n",
        "        accuracy = 0\n",
        "        with torch.no_grad():\n",
        "            for images, labels in testloader:\n",
        "                logit = model(images)\n",
        "                ps = logit#torch.exp(logit)\n",
        "                top_p, top_class = ps.topk(1, dim = 1)\n",
        "                equals = top_class == labels.view(*top_class.shape)\n",
        "                accuracy += torch.mean(equals.type(torch.FloatTensor))\n",
        "        print(\"Loss on training set: \", running_loss)\n",
        "        print(\"Accuracy on test set: \", end = \" \")\n",
        "        print((accuracy / len(testloader)).data.numpy())"
      ],
      "execution_count": 0,
      "outputs": [
        {
          "output_type": "stream",
          "text": [
            "Epoch  1\n",
            "Loss on training set:  2190.154004096985\n",
            "Accuracy on test set:  0.3469\n",
            "Epoch  2\n",
            "Loss on training set:  2066.225322008133\n",
            "Accuracy on test set:  0.43839988\n",
            "Epoch  3\n",
            "Loss on training set:  2015.6646366119385\n",
            "Accuracy on test set:  0.4706999\n",
            "Epoch  4\n",
            "Loss on training set:  1979.7148439884186\n",
            "Accuracy on test set:  0.4897999\n",
            "Epoch  5\n",
            "Loss on training set:  1947.0443089008331\n",
            "Accuracy on test set:  0.5097\n",
            "Epoch  6\n",
            "Loss on training set:  1922.5798836946487\n",
            "Accuracy on test set:  0.54429984\n",
            "Epoch  7\n",
            "Loss on training set:  1900.2027895450592\n",
            "Accuracy on test set:  0.5584\n",
            "Epoch  8\n",
            "Loss on training set:  1880.6006295681\n",
            "Accuracy on test set:  0.5656002\n",
            "Epoch  9\n",
            "Loss on training set:  1863.1601527929306\n",
            "Accuracy on test set:  0.58640015\n",
            "Epoch  10\n",
            "Loss on training set:  1846.6627342700958\n",
            "Accuracy on test set:  0.59710014\n",
            "Epoch  11\n",
            "Loss on training set:  1832.8818269968033\n",
            "Accuracy on test set:  0.60230017\n",
            "Epoch  12\n",
            "Loss on training set:  1820.5944964885712\n",
            "Accuracy on test set:  0.6082\n",
            "Epoch  13\n",
            "Loss on training set:  1810.7960206270218\n",
            "Accuracy on test set:  0.62240016\n",
            "Epoch  14\n",
            "Loss on training set:  1800.3425759077072\n",
            "Accuracy on test set:  0.6345004\n",
            "Epoch  15\n",
            "Loss on training set:  1789.8706446886063\n",
            "Accuracy on test set:  0.64240026\n",
            "Epoch  16\n",
            "Loss on training set:  1781.5348625183105\n",
            "Accuracy on test set:  0.6461003\n",
            "Epoch  17\n",
            "Loss on training set:  1775.0027258396149\n",
            "Accuracy on test set:  0.6487002\n",
            "Epoch  18\n",
            "Loss on training set:  1767.4451464414597\n",
            "Accuracy on test set:  0.6583002\n",
            "Epoch  19\n",
            "Loss on training set:  1760.9603816270828\n",
            "Accuracy on test set:  0.65930015\n",
            "Epoch  20\n",
            "Loss on training set:  1754.1150207519531\n",
            "Accuracy on test set:  0.65839994\n",
            "Epoch  21\n",
            "Loss on training set:  1747.9918142557144\n",
            "Accuracy on test set:  0.66089994\n",
            "Epoch  22\n",
            "Loss on training set:  1742.9454989433289\n",
            "Accuracy on test set:  0.66070014\n",
            "Epoch  23\n",
            "Loss on training set:  1737.4747701883316\n",
            "Accuracy on test set:  0.6666001\n",
            "Epoch  24\n",
            "Loss on training set:  1732.6795506477356\n",
            "Accuracy on test set:  0.66110015\n",
            "Epoch  25\n"
          ],
          "name": "stdout"
        }
      ]
    },
    {
      "cell_type": "markdown",
      "metadata": {
        "id": "rath0bEp3-Xt",
        "colab_type": "text"
      },
      "source": [
        "** Choose any dataset available online for multi class classification(minimum 3 classes) and try and train a CNN on that dataset.\n",
        "** You should try and write your own dataloader function and don't use pytorch's inbuilt one.\n",
        "** Experiment with the number of layers, kernel size, strides, padding.\n",
        "** Get the best accuracy you can get.\n",
        "** Don't use the datasets which are inbuilt in pytorch."
      ]
    }
  ]
}