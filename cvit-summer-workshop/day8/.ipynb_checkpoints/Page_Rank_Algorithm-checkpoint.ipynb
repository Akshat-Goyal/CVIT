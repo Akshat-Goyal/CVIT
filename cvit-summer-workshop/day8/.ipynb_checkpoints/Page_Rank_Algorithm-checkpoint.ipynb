{
 "cells": [
  {
   "cell_type": "markdown",
   "metadata": {
    "colab_type": "text",
    "id": "A_j52qdONSAu"
   },
   "source": [
    "# Google Page Rank Algorithm\n",
    "\n",
    "- Author: Swetanjal Dutta"
   ]
  },
  {
   "cell_type": "code",
   "execution_count": 1,
   "metadata": {
    "colab": {
     "base_uri": "https://localhost:8080/",
     "height": 122
    },
    "colab_type": "code",
    "id": "I3iM1NiBOjDO",
    "outputId": "c0f456b9-20f1-4398-d99e-c7a09b420bb2"
   },
   "outputs": [
    {
     "name": "stdout",
     "output_type": "stream",
     "text": [
      "Go to this URL in a browser: https://accounts.google.com/o/oauth2/auth?client_id=947318989803-6bn6qk8qdgf4n4g3pfee6491hc0brc4i.apps.googleusercontent.com&redirect_uri=urn%3aietf%3awg%3aoauth%3a2.0%3aoob&response_type=code&scope=email%20https%3a%2f%2fwww.googleapis.com%2fauth%2fdocs.test%20https%3a%2f%2fwww.googleapis.com%2fauth%2fdrive%20https%3a%2f%2fwww.googleapis.com%2fauth%2fdrive.photos.readonly%20https%3a%2f%2fwww.googleapis.com%2fauth%2fpeopleapi.readonly\n",
      "\n",
      "Enter your authorization code:\n",
      "··········\n",
      "Mounted at /content/drive/\n"
     ]
    }
   ],
   "source": [
    "from google.colab import drive\n",
    "drive.mount('/content/drive/')"
   ]
  },
  {
   "cell_type": "code",
   "execution_count": 0,
   "metadata": {
    "colab": {},
    "colab_type": "code",
    "id": "5aNnxZ0bOkPN"
   },
   "outputs": [],
   "source": [
    "base_url = '/content/drive/My Drive/CVIT_WORKSHOP_2020/day8'"
   ]
  },
  {
   "cell_type": "markdown",
   "metadata": {
    "colab_type": "text",
    "id": "8ITu2_FyNSAv"
   },
   "source": [
    "In this notebook, we learn and code up a simplified version of Google's Page Rank Algorithm, which is a direct application of Eigenvectors and Eigenvalues we learnt in Linear Algebra.\n",
    "\n",
    "![image](images/1.png)\n",
    "\n",
    "\n",
    "Reference to the original paper: $\\href{http://ilpubs.stanford.edu:8090/422/1/1999-66.pdf}{here}$\n",
    "\n",
    "Reference to blog:\n",
    "$\\href{https://www.dhruvonmath.com/2019/03/20/pagerank/}{here}$"
   ]
  },
  {
   "cell_type": "markdown",
   "metadata": {
    "colab_type": "text",
    "id": "Idrpv-tONSAx"
   },
   "source": [
    "Google Page Rank Algorithm predicts a rank for each webpage on the internet. This rank depends on the number of ingoing and outgoing links to a webpage.\n",
    "\n",
    "You can think of rank of a webpage as follows: If a web page gets rank $1$, it means that a random web searcher who clicks links randomly would spend the most amount of time in this web page. If a web page gets rank $2$, it means that a random web searcher who keeps clicking links randomly would spend the second most amount of time in this web page and so on and so forth.\n",
    "\n",
    "Given the structure of the web, it is very obvious to model the web as a Graph Data structure. The nodes of the graph are the web pages. Edges of the graph represent links between the web pages.\n",
    "\n",
    "Note that the graph is a directed graph. There maybe a link from webpage 'A' to webpage 'B', it may not always be the case that there exists a link from webpage 'B' to webpage 'A'."
   ]
  },
  {
   "cell_type": "markdown",
   "metadata": {
    "colab_type": "text",
    "id": "Xn_OR2dDNSAy"
   },
   "source": [
    "A graph with $N$ nodes can be represented with a $N \\times N$ matrix. This matrix is known as Adjacency matrix.\n",
    "\n",
    "$A_{ij}$ represents the weight of the edge connecting the $j^{th}$ node to the $i^{th}$ node. \n",
    "We can think of this adjacency matrix as concatenation of $N$ column vectors. The $i^{th}$ column defines the edges from node $i$ to all other nodes."
   ]
  },
  {
   "cell_type": "markdown",
   "metadata": {
    "colab_type": "text",
    "id": "J_nK2wt-NSAz"
   },
   "source": [
    "**Exercise:**\n",
    "Can you draw the graph corresponding to the following adjacency matrix?\n",
    "\n",
    "\\begin{equation}\n",
    "A = \\begin{pmatrix}\n",
    "0 & 1/2 & 0 & 0\\\\\n",
    "1/3 & 0 & 0 & 1/2\\\\\n",
    "1/3 & 0 & 0 & 1/2\\\\\n",
    "1/3 & 1/2 & 1 & 0\\\\\n",
    "\\end{pmatrix}\n",
    "\\end{equation}\n",
    "\n",
    "\n",
    "**Exercise:**\n",
    "Can you write down the adjacency matrix for the following graph?\n",
    "\n",
    "![ex1](images/2.png)"
   ]
  },
  {
   "cell_type": "markdown",
   "metadata": {
    "colab_type": "text",
    "id": "yNUXBlHCNSA0"
   },
   "source": [
    "Let us normalize each column of the adjacency matrix so that the entries sum upto $1$. This is because we want to output the rank as a probability value of the amount of time spent on that webpage.\n",
    "\n",
    "We start with equiprobable ranks for all webpages. \n",
    "\n",
    "We update the ranks($r$) as follows:\n",
    "\\begin{equation}\n",
    "r(i) = \\underset{j}{\\sum} r(j) * A(i, j)\n",
    "\\end{equation}\n",
    "\\begin{equation}\n",
    "r' = A.r\n",
    "\\end{equation}\n",
    "The above is a recursive definition."
   ]
  },
  {
   "cell_type": "code",
   "execution_count": 0,
   "metadata": {
    "colab": {},
    "colab_type": "code",
    "id": "8ao_dZfnNSA1"
   },
   "outputs": [],
   "source": [
    "import numpy as np"
   ]
  },
  {
   "cell_type": "code",
   "execution_count": 0,
   "metadata": {
    "colab": {},
    "colab_type": "code",
    "id": "D0T5dEgbNSA5"
   },
   "outputs": [],
   "source": [
    "# Complete the below function to return A after normalizing\n",
    "# each of it's columns\n",
    "# Normalizing a column means sum of entries in each column adds to 1.\n",
    "# PLEASE USE VECTORISED CODE FOR EFFICIENCY\n",
    "def normalize_columns(A):\n",
    "    A = A / np.sum(A, axis=0)\n",
    "    return A"
   ]
  },
  {
   "cell_type": "code",
   "execution_count": 5,
   "metadata": {
    "colab": {
     "base_uri": "https://localhost:8080/",
     "height": 85
    },
    "colab_type": "code",
    "id": "7sxJzPEZNSA9",
    "outputId": "afe0a805-e63c-4fbd-ce5f-1387230d60fa"
   },
   "outputs": [
    {
     "name": "stdout",
     "output_type": "stream",
     "text": [
      "[[0.         0.         1.         0.5       ]\n",
      " [0.33333333 0.         0.         0.        ]\n",
      " [0.33333333 0.5        0.         0.5       ]\n",
      " [0.33333333 0.5        0.         0.        ]]\n"
     ]
    }
   ],
   "source": [
    "A = np.array([[0, 0, 1, 1], [1, 0, 0, 0], [1, 1, 0, 1], [1, 1, 0, 0]])\n",
    "print(normalize_columns(A))"
   ]
  },
  {
   "cell_type": "markdown",
   "metadata": {
    "colab_type": "text",
    "id": "dV30p_PENSBC"
   },
   "source": [
    "**Expected Output:**\n",
    "\n",
    "[[0.         0.         1.         0.5       ]\n",
    " [0.33333333 0.         0.         0.        ]\n",
    " [0.33333333 0.5        0.         0.5       ]\n",
    " [0.33333333 0.5        0.         0.        ]]"
   ]
  },
  {
   "cell_type": "code",
   "execution_count": 0,
   "metadata": {
    "colab": {},
    "colab_type": "code",
    "id": "jUx30knxNSBC"
   },
   "outputs": [],
   "source": [
    "epsilon = 1e-8"
   ]
  },
  {
   "cell_type": "code",
   "execution_count": 0,
   "metadata": {
    "colab": {},
    "colab_type": "code",
    "id": "8iinlPqSNSBH"
   },
   "outputs": [],
   "source": [
    "# Complete the below function to take a matrix A and a vector r.\n",
    "# Return the updated rank.\n",
    "# PLEASE USE VECTORISED CODE WITHOUT LOOPS\n",
    "def update_rank(A, r):\n",
    "    r_ = A @ r\n",
    "    return r_"
   ]
  },
  {
   "cell_type": "code",
   "execution_count": 0,
   "metadata": {
    "colab": {},
    "colab_type": "code",
    "id": "L4Ntmgy9NSBL"
   },
   "outputs": [],
   "source": [
    "# Complete the below function to check if two vectors a and b are equal\n",
    "# Since we are dealing with real numbers, \n",
    "# we say two elements(x and y) are equal if abs(x - y) <= epsilon\n",
    "\n",
    "# PLEASE USE VECTORISED CODE WITHOUT LOOPS\n",
    "def check_equality(a, b):\n",
    "    return 1 if (abs(a - b) <= epsilon).all() else 0"
   ]
  },
  {
   "cell_type": "code",
   "execution_count": 0,
   "metadata": {
    "colab": {},
    "colab_type": "code",
    "id": "HUdMsiyxNSBP"
   },
   "outputs": [],
   "source": [
    "# Complete the below function to compute ranks iteratively until \n",
    "# ranks stabilise.\n",
    "# We say ranks become stabilised when the after updation the ranks\n",
    "# do not change.\n",
    "# Use the functions defined above.\n",
    "def compute_iteratively(A, initial_rank):\n",
    "    old_rank = np.zeros((initial_rank.shape[0], 1))\n",
    "    new_rank = initial_rank.copy()[:, None]\n",
    "    while not check_equality(old_rank, new_rank):\n",
    "      old_rank = new_rank.copy()\n",
    "      new_rank = update_rank(A, old_rank)\n",
    "    return new_rank.ravel()"
   ]
  },
  {
   "cell_type": "code",
   "execution_count": 0,
   "metadata": {
    "colab": {},
    "colab_type": "code",
    "id": "GjWkITPWNSBS"
   },
   "outputs": [],
   "source": [
    "# Complete the below function to compute final ranks at one shot using\n",
    "# eigen values and eigen vectors\n",
    "# You may use inbuilt functions to compute eigenvectors and eigenvalues\n",
    "import scipy.linalg as la\n",
    "def compute_using_eig(A, initial_rank):\n",
    "    eigenvals, eigenvecs = la.eig(A)\n",
    "    egi = eigenvals.astype(int)\n",
    "    i = np.where(egi==1)\n",
    "    i = i[0][0]\n",
    "    \n",
    "    \n",
    "    return normalize_columns(eigenvecs[:,i])"
   ]
  },
  {
   "cell_type": "code",
   "execution_count": 13,
   "metadata": {
    "colab": {
     "base_uri": "https://localhost:8080/",
     "height": 139
    },
    "colab_type": "code",
    "id": "Dd_9ANu5NSBW",
    "outputId": "5b7c8eb6-3722-4ad2-adf1-0bb37bcccdd4"
   },
   "outputs": [
    {
     "name": "stdout",
     "output_type": "stream",
     "text": [
      "Rank computed iteratively: \n",
      " [0.12 0.24 0.24 0.4 ]\n",
      "Rank computed using eigen values and eigen vectors: \n",
      " [0.12 0.24 0.24 0.4 ]\n"
     ]
    },
    {
     "name": "stderr",
     "output_type": "stream",
     "text": [
      "/usr/local/lib/python3.6/dist-packages/ipykernel_launcher.py:7: ComplexWarning: Casting complex values to real discards the imaginary part\n",
      "  import sys\n"
     ]
    }
   ],
   "source": [
    "A = np.array([[0, 1, 0, 0], [1, 0, 0, 1], [1, 0, 0, 1], [1, 1, 1, 0]])\n",
    "A = normalize_columns(A)\n",
    "r = np.array([0.25, 0.25, 0.25, 0.25])\n",
    "print(\"Rank computed iteratively: \\n\", compute_iteratively(A, r))\n",
    "print(\"Rank computed using eigen values and eigen vectors: \\n\", compute_using_eig(A, r))"
   ]
  },
  {
   "cell_type": "code",
   "execution_count": 0,
   "metadata": {
    "colab": {},
    "colab_type": "code",
    "id": "qcXk5vCrVEaJ"
   },
   "outputs": [],
   "source": []
  },
  {
   "cell_type": "markdown",
   "metadata": {
    "colab_type": "text",
    "id": "3JcE8EBkNSBa"
   },
   "source": [
    "**Expected Output:**\n",
    "\n",
    "Rank computed iteratively: \n",
    " [0.12       0.24       0.24       0.39999999]\n",
    "\n",
    "Rank computed using eigen values and eigen vectors: \n",
    " [0.12 0.24 0.24 0.4 ]"
   ]
  },
  {
   "cell_type": "code",
   "execution_count": 16,
   "metadata": {
    "colab": {
     "base_uri": "https://localhost:8080/",
     "height": 139
    },
    "colab_type": "code",
    "id": "s3EyjVdaNSBa",
    "outputId": "dda8227b-1216-476c-ebff-f85d883b9a80"
   },
   "outputs": [
    {
     "name": "stdout",
     "output_type": "stream",
     "text": [
      "Rank computed iteratively: \n",
      " [0.38709677 0.12903226 0.29032258 0.19354839]\n",
      "Rank computed using eigen values and eigen vectors: \n",
      " [0.38709677+0.j 0.12903226+0.j 0.29032258+0.j 0.19354839+0.j]\n"
     ]
    },
    {
     "name": "stderr",
     "output_type": "stream",
     "text": [
      "/usr/local/lib/python3.6/dist-packages/ipykernel_launcher.py:7: ComplexWarning: Casting complex values to real discards the imaginary part\n",
      "  import sys\n"
     ]
    }
   ],
   "source": [
    "A = np.array([[0, 0, 1, 1], [1, 0, 0, 0], [1, 1, 0, 1], [1, 1, 0, 0]])\n",
    "A = normalize_columns(A)\n",
    "r = np.array([0.25, 0.25, 0.25, 0.25])\n",
    "print(\"Rank computed iteratively: \\n\", compute_iteratively(A, r))\n",
    "print(\"Rank computed using eigen values and eigen vectors: \\n\", compute_using_eig(A, r))"
   ]
  },
  {
   "cell_type": "markdown",
   "metadata": {
    "colab_type": "text",
    "id": "1X1WCUSfNSBe"
   },
   "source": [
    "**Expected Output:**\n",
    "\n",
    "Rank computed iteratively: \n",
    "\n",
    "[0.38709677 0.12903226 0.29032258 0.19354839]\n",
    "\n",
    "Rank computed using eigen values and eigen vectors: \n",
    "\n",
    "[0.38709677 0.12903226 0.29032258 0.19354839]"
   ]
  },
  {
   "cell_type": "code",
   "execution_count": 17,
   "metadata": {
    "colab": {
     "base_uri": "https://localhost:8080/",
     "height": 34
    },
    "colab_type": "code",
    "id": "_J5g3Y1sNSBf",
    "outputId": "91272d61-6ca3-4c16-c9ae-b3b602e86d3a"
   },
   "outputs": [
    {
     "data": {
      "text/plain": [
       "(3, 1)"
      ]
     },
     "execution_count": 17,
     "metadata": {
      "tags": []
     },
     "output_type": "execute_result"
    }
   ],
   "source": [
    "aa=np.array([1, 2, 3])\n",
    "aa[:, None].shape"
   ]
  },
  {
   "cell_type": "code",
   "execution_count": 0,
   "metadata": {
    "colab": {},
    "colab_type": "code",
    "id": "MoQn7Q9lZX_c"
   },
   "outputs": [],
   "source": []
  }
 ],
 "metadata": {
  "colab": {
   "collapsed_sections": [],
   "name": "Page Rank Algorithm.ipynb",
   "provenance": []
  },
  "kernelspec": {
   "display_name": "Python 3",
   "language": "python",
   "name": "python3"
  },
  "language_info": {
   "codemirror_mode": {
    "name": "ipython",
    "version": 3
   },
   "file_extension": ".py",
   "mimetype": "text/x-python",
   "name": "python",
   "nbconvert_exporter": "python",
   "pygments_lexer": "ipython3",
   "version": "3.6.9"
  }
 },
 "nbformat": 4,
 "nbformat_minor": 1
}
