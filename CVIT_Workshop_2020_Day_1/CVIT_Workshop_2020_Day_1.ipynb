{
  "nbformat": 4,
  "nbformat_minor": 0,
  "metadata": {
    "colab": {
      "name": "CVIT-Workshop-2020-Day-1.ipynb",
      "provenance": []
    },
    "kernelspec": {
      "name": "python3",
      "display_name": "Python 3"
    }
  },
  "cells": [
    {
      "cell_type": "code",
      "metadata": {
        "id": "JcmdXa_SHaRo",
        "colab_type": "code",
        "colab": {}
      },
      "source": [
        "arr = [1, 2, 3, 4]"
      ],
      "execution_count": 0,
      "outputs": []
    },
    {
      "cell_type": "code",
      "metadata": {
        "id": "aqPQ7A0xH-Z1",
        "colab_type": "code",
        "colab": {
          "base_uri": "https://localhost:8080/",
          "height": 34
        },
        "outputId": "0cb6a92f-e077-419e-9f0a-8181302b2969"
      },
      "source": [
        "# Task 1.1\n",
        "print(arr[::-1])"
      ],
      "execution_count": 23,
      "outputs": [
        {
          "output_type": "stream",
          "text": [
            "[4, 3, 2, 1]\n"
          ],
          "name": "stdout"
        }
      ]
    },
    {
      "cell_type": "code",
      "metadata": {
        "id": "dWM16WRSI6sG",
        "colab_type": "code",
        "colab": {}
      },
      "source": [
        "arr = [1, 2, 3, 4, 5, 6]"
      ],
      "execution_count": 0,
      "outputs": []
    },
    {
      "cell_type": "code",
      "metadata": {
        "id": "DKt2vOxOI_UP",
        "colab_type": "code",
        "colab": {
          "base_uri": "https://localhost:8080/",
          "height": 34
        },
        "outputId": "1d2ff0b6-7369-4343-ba76-a2c16e1642b8"
      },
      "source": [
        "# Task 1.2\n",
        "print(arr[-5:])"
      ],
      "execution_count": 25,
      "outputs": [
        {
          "output_type": "stream",
          "text": [
            "[2, 3, 4, 5, 6]\n"
          ],
          "name": "stdout"
        }
      ]
    },
    {
      "cell_type": "code",
      "metadata": {
        "id": "i0abFxIfJDGZ",
        "colab_type": "code",
        "colab": {
          "base_uri": "https://localhost:8080/",
          "height": 34
        },
        "outputId": "ac082576-152c-4033-9dc6-c91b98c2aabb"
      },
      "source": [
        "# Task 1.3\n",
        "del arr[2]\n",
        "\n",
        "print(arr)"
      ],
      "execution_count": 26,
      "outputs": [
        {
          "output_type": "stream",
          "text": [
            "[1, 2, 4, 5, 6]\n"
          ],
          "name": "stdout"
        }
      ]
    },
    {
      "cell_type": "code",
      "metadata": {
        "id": "i34XBl7WJK9A",
        "colab_type": "code",
        "colab": {}
      },
      "source": [
        "# Task 2\n",
        "x = dict([(pow(10,r),r) for r in range(10)])"
      ],
      "execution_count": 0,
      "outputs": []
    },
    {
      "cell_type": "code",
      "metadata": {
        "id": "Dgv7fjluJ-2h",
        "colab_type": "code",
        "colab": {
          "base_uri": "https://localhost:8080/",
          "height": 187
        },
        "outputId": "0ff3a1a9-42e1-4683-bdcc-1eb8fe6dfe00"
      },
      "source": [
        "# Task 2.1\n",
        "for i in x:\n",
        "  print(i)"
      ],
      "execution_count": 28,
      "outputs": [
        {
          "output_type": "stream",
          "text": [
            "1\n",
            "10\n",
            "100\n",
            "1000\n",
            "10000\n",
            "100000\n",
            "1000000\n",
            "10000000\n",
            "100000000\n",
            "1000000000\n"
          ],
          "name": "stdout"
        }
      ]
    },
    {
      "cell_type": "code",
      "metadata": {
        "id": "g3Bm3gwgKApN",
        "colab_type": "code",
        "colab": {
          "base_uri": "https://localhost:8080/",
          "height": 34
        },
        "outputId": "64251b26-5f77-4d06-8d01-3e5028e2efe4"
      },
      "source": [
        "# Task 2.2\n",
        "del x[100]\n",
        "\n",
        "print(x)"
      ],
      "execution_count": 29,
      "outputs": [
        {
          "output_type": "stream",
          "text": [
            "{1: 0, 10: 1, 1000: 3, 10000: 4, 100000: 5, 1000000: 6, 10000000: 7, 100000000: 8, 1000000000: 9}\n"
          ],
          "name": "stdout"
        }
      ]
    },
    {
      "cell_type": "code",
      "metadata": {
        "id": "9NFq59x1KKmc",
        "colab_type": "code",
        "colab": {
          "base_uri": "https://localhost:8080/",
          "height": 34
        },
        "outputId": "b9ec7eb7-da64-471d-eda5-cc9c91135ce8"
      },
      "source": [
        "# Task 2.3\n",
        "list = []\n",
        "for i in x:\n",
        "  list.append((i, x[i]))\n",
        "\n",
        "def cmp(x):\n",
        "  return x[0] % 101\n",
        "\n",
        "list.sort(key=cmp)\n",
        "\n",
        "print(list)"
      ],
      "execution_count": 30,
      "outputs": [
        {
          "output_type": "stream",
          "text": [
            "[(1, 0), (10000, 4), (100000000, 8), (10, 1), (100000, 5), (1000000000, 9), (1000, 3), (10000000, 7), (1000000, 6)]\n"
          ],
          "name": "stdout"
        }
      ]
    },
    {
      "cell_type": "code",
      "metadata": {
        "id": "2v5pfw46KkUl",
        "colab_type": "code",
        "colab": {}
      },
      "source": [
        ""
      ],
      "execution_count": 0,
      "outputs": []
    }
  ]
}